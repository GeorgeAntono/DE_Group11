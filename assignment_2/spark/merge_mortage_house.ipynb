{
 "cells": [
  {
   "cell_type": "code",
   "execution_count": 2,
   "id": "16186770-9408-4b2d-b994-15d7e8110c0b",
   "metadata": {},
   "outputs": [],
   "source": [
    "from pyspark.sql import SparkSession\n",
    "from pyspark import SparkConf\n",
    "\n",
    "sparkConf = SparkConf()\n",
    "sparkConf.setMaster(\"spark://spark-master:7077\")\n",
    "sparkConf.setAppName(\"BigqueryExample\")\n",
    "sparkConf.set(\"spark.driver.memory\", \"2g\")\n",
    "sparkConf.set(\"spark.executor.cores\", \"1\")\n",
    "sparkConf.set(\"spark.driver.cores\", \"1\")\n",
    "# create the spark session, which is the entry point to Spark SQL engine.\n",
    "spark = SparkSession.builder.config(conf=sparkConf).getOrCreate()\n",
    "# Setup hadoop fs configuration for schema gs://\n",
    "conf = spark.sparkContext._jsc.hadoopConfiguration()\n",
    "conf.set(\"fs.gs.impl\", \"com.google.cloud.hadoop.fs.gcs.GoogleHadoopFileSystem\")\n",
    "conf.set(\"fs.AbstractFileSystem.gs.impl\", \"com.google.cloud.hadoop.fs.gcs.GoogleHadoopFS\")\n",
    "# Load data from BigQuery.\n",
    "\n",
    "\n"
   ]
  },
  {
   "cell_type": "markdown",
   "id": "49c387d1-721c-4857-a0e8-6f106b101862",
   "metadata": {},
   "source": [
    "# Load tables"
   ]
  },
  {
   "cell_type": "code",
   "execution_count": 73,
   "id": "f8a69173-699f-4346-90cf-bed856ad5b45",
   "metadata": {},
   "outputs": [
    {
     "name": "stdout",
     "output_type": "stream",
     "text": [
      "root\n",
      " |-- ID: long (nullable = true)\n",
      " |-- spouse_ID: long (nullable = true)\n",
      " |-- max_to_spend_month: double (nullable = true)\n",
      " |-- possible_mortgage_amount: integer (nullable = true)\n",
      "\n"
     ]
    }
   ],
   "source": [
    "df_mortage = spark.read \\\n",
    "  .format(\"bigquery\") \\\n",
    "  .load(\" degroup11.group11dataset.mortage_amount_batch\")    # project_id.datatset.tablename. Use your project id\n",
    "df_mortage = df_mortage.withColumn(\"possible_mortgage_amount\", col(\"possible_mortgage_amount\").cast(\"int\"))\n",
    "\n",
    "df_mortage.printSchema()"
   ]
  },
  {
   "cell_type": "code",
   "execution_count": 74,
   "id": "f4124e73-115a-40ae-890e-3678297cceb1",
   "metadata": {},
   "outputs": [
    {
     "name": "stdout",
     "output_type": "stream",
     "text": [
      "root\n",
      " |-- Address: string (nullable = true)\n",
      " |-- City: string (nullable = true)\n",
      " |-- Price: integer (nullable = true)\n",
      " |-- Lot_size: string (nullable = true)\n",
      " |-- Living_space_size: string (nullable = true)\n",
      " |-- Build_year: string (nullable = true)\n",
      " |-- Build_type: string (nullable = true)\n",
      " |-- House_type: string (nullable = true)\n",
      " |-- Roof: string (nullable = true)\n",
      " |-- Rooms: string (nullable = true)\n",
      " |-- Toilet: string (nullable = true)\n",
      " |-- Floors: string (nullable = true)\n",
      " |-- Energy_label: string (nullable = true)\n",
      " |-- Position: string (nullable = true)\n",
      " |-- Garden: string (nullable = true)\n",
      " |-- Estimated_neighbourhood_price_per: double (nullable = true)\n",
      " |-- Availability: boolean (nullable = true)\n",
      " |-- event_time: timestamp (nullable = true)\n",
      "\n"
     ]
    }
   ],
   "source": [
    "df_housing = spark.read \\\n",
    "  .format(\"bigquery\") \\\n",
    "  .load(\" degroup11.group11dataset.house_pricing\")    # project_id.datatset.tablename. Use your project id\n",
    "df_housing = df_housing.withColumn(\"Price\", col(\"Price\").cast(\"int\"))\n",
    "df_housing.printSchema()\n"
   ]
  },
  {
   "cell_type": "markdown",
   "id": "e28c203f-70b9-47c9-a3cb-aae0bfa22234",
   "metadata": {},
   "source": [
    "## Take a random person from the dataset"
   ]
  },
  {
   "cell_type": "code",
   "execution_count": 75,
   "id": "b9b6dcd3-6b29-4831-993d-ba7907717c28",
   "metadata": {},
   "outputs": [
    {
     "name": "stdout",
     "output_type": "stream",
     "text": [
      "+---+---------+------------------+------------------------+\n",
      "| ID|spouse_ID|max_to_spend_month|possible_mortgage_amount|\n",
      "+---+---------+------------------+------------------------+\n",
      "|304|      304|           4144.03|                  823655|\n",
      "+---+---------+------------------+------------------------+\n",
      "\n"
     ]
    }
   ],
   "source": [
    "from pyspark.sql.functions import col, udf, window\n",
    "from random import randint\n",
    "\n",
    "def select_person_id():\n",
    "    chosen_ID = randint(1, df_mortage.count())\n",
    "    return chosen_ID\n",
    "\n",
    "selected_df = df_mortage.filter( col(\"ID\") == select_person_id())\n",
    "selected_df.show()"
   ]
  },
  {
   "cell_type": "markdown",
   "id": "536f8e5f-d3c3-4b0a-9c0a-9a3033c46f9e",
   "metadata": {},
   "source": [
    "## Take all the houses that that have a lower price than the possible mortage amount and are available"
   ]
  },
  {
   "cell_type": "code",
   "execution_count": 78,
   "id": "be0d28a9-c7bc-4b3b-9a6c-99c0e229478f",
   "metadata": {},
   "outputs": [
    {
     "data": {
      "text/plain": [
       "576558.5"
      ]
     },
     "execution_count": 78,
     "metadata": {},
     "output_type": "execute_result"
    }
   ],
   "source": [
    "type(selected_df.first().asDict()[\"possible_mortgage_amount\"])\n",
    "(selected_df.first().asDict()[\"possible_mortgage_amount\"]*0.7)"
   ]
  },
  {
   "cell_type": "code",
   "execution_count": 79,
   "id": "8f0e214b-8928-419c-8d79-c239595d8910",
   "metadata": {},
   "outputs": [
    {
     "name": "stdout",
     "output_type": "stream",
     "text": [
      "+--------------------+-------------------+------+------------+--------------------+\n",
      "|             Address|               City| Price|Availability|          event_time|\n",
      "+--------------------+-------------------+------+------------+--------------------+\n",
      "|        Hoepmaker 10|        Papendrecht|820000|        true|2023-12-01 02:35:...|\n",
      "|   Rietpolderlaan 17|             Muiden|820000|        true|2023-12-01 03:09:...|\n",
      "|        Looveen 14 .|            Wijster|815000|        true|2023-12-01 00:08:...|\n",
      "|Willem van Guliks...|             Arnhem|810000|        true|2023-11-30 21:40:...|\n",
      "|Cornelis Troostla...|              Heeze|800000|        true|2023-11-30 20:18:...|\n",
      "|    Vriezenbeemden 6|            Helmond|800000|        true|2023-12-01 01:42:...|\n",
      "|      Astersingel 23|Berkel en Rodenrijs|800000|        true|2023-11-30 21:21:...|\n",
      "|  Grevelingenhout 37|          Bruinisse|800000|        true|2023-11-30 21:36:...|\n",
      "|        't Höltje 42|             Helden|800000|        true|2023-11-30 22:28:...|\n",
      "|        Hogesteeg 42|         Amersfoort|800000|        true|2023-11-30 23:05:...|\n",
      "+--------------------+-------------------+------+------------+--------------------+\n",
      "only showing top 10 rows\n",
      "\n"
     ]
    }
   ],
   "source": [
    "available_houses_chosen_individual = df_housing.filter(col(\"Price\") < selected_df.first()\\\n",
    "                                                       .asDict()[\"possible_mortgage_amount\"])\\\n",
    "                                                        .filter(col(\"Availability\") == True)\n",
    "\n",
    "available_houses = available_houses_chosen_individual.select('Address','City','Price','Availability',\"event_time\").orderBy(col(\"Price\").desc())\n",
    "available_houses.show(10)\n"
   ]
  },
  {
   "cell_type": "code",
   "execution_count": null,
   "id": "48214498-1818-45e9-95c7-97c5ed45f3da",
   "metadata": {},
   "outputs": [],
   "source": []
  }
 ],
 "metadata": {
  "kernelspec": {
   "display_name": "Python 3 (ipykernel)",
   "language": "python",
   "name": "python3"
  },
  "language_info": {
   "codemirror_mode": {
    "name": "ipython",
    "version": 3
   },
   "file_extension": ".py",
   "mimetype": "text/x-python",
   "name": "python",
   "nbconvert_exporter": "python",
   "pygments_lexer": "ipython3",
   "version": "3.11.6"
  }
 },
 "nbformat": 4,
 "nbformat_minor": 5
}
