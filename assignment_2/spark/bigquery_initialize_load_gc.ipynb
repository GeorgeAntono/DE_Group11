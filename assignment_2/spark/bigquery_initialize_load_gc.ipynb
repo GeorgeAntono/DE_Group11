{
 "cells": [
  {
   "cell_type": "markdown",
   "id": "460f639e-6fe3-4098-81c7-3083f227fd7e",
   "metadata": {},
   "source": [
    "## Initialize Google Big Query tables"
   ]
  },
  {
   "cell_type": "code",
   "execution_count": 15,
   "id": "2fcb1de8-97ea-4ef3-a6ac-cb0f10b947fb",
   "metadata": {},
   "outputs": [],
   "source": [
    "import sys\n",
    "#!{sys.executable} -m pip uninstall -q google-cloud-storage\n",
    "!{sys.executable} -m pip install -q google-cloud-storage\n",
    "!{sys.executable} -m pip install -q google-cloud-bigquery"
   ]
  },
  {
   "cell_type": "code",
   "execution_count": 18,
   "id": "initial_id",
   "metadata": {},
   "outputs": [
    {
     "name": "stdout",
     "output_type": "stream",
     "text": [
      "Table 'group11dataset.individuals' created successfully.\n",
      "Table 'group11dataset.spouse' created successfully.\n",
      "Table 'group11dataset.house_pricing' created successfully.\n"
     ]
    }
   ],
   "source": [
    "from google.cloud import bigquery\n",
    "\n",
    "# Initialize the BigQuery client\n",
    "client = bigquery.Client(project=\"degroup11\")  \n",
    "\n",
    "# Define the table schema\n",
    "schema = [\n",
    "    bigquery.SchemaField(\"ID\", \"INTEGER\"),\n",
    "    bigquery.SchemaField(\"age\", \"INTEGER\"),\n",
    "    bigquery.SchemaField(\"has_spouse\", \"BOOLEAN\"),\n",
    "    bigquery.SchemaField(\"spouse_ID\", \"INTEGER\"),\n",
    "    bigquery.SchemaField(\"gross_salary\", \"INTEGER\"),\n",
    "    bigquery.SchemaField(\"has_student_loan\", \"BOOLEAN\"),\n",
    "    bigquery.SchemaField(\"student_loan_amount\", \"INTEGER\"),\n",
    "    bigquery.SchemaField(\"has_general_loan\", \"BOOLEAN\"),\n",
    "    bigquery.SchemaField(\"general_loan_amount\", \"INTEGER\"),\n",
    "    bigquery.SchemaField(\"has_alimony\", \"BOOLEAN\"),\n",
    "    bigquery.SchemaField(\"alimony_amount\", \"INTEGER\"),\n",
    "]\n",
    "\n",
    "# Specify the BigQuery dataset and table\n",
    "dataset_id = \"group11dataset\"  \n",
    "table_id = \"individuals\"   \n",
    "\n",
    "# Create the BigQuery table\n",
    "table_ref = client.dataset(dataset_id).table(table_id)\n",
    "table = bigquery.Table(table_ref, schema=schema)\n",
    "\n",
    "# Create the table if it doesn't exist\n",
    "client.create_table(table, exists_ok=True)\n",
    "\n",
    "print(f\"Table '{dataset_id}.{table_id}' created successfully.\")\n",
    "\n",
    "# Define the table schema\n",
    "schema_spouse = [\n",
    "    bigquery.SchemaField(\"spouse_ID\", \"INTEGER\"),\n",
    "    bigquery.SchemaField(\"age\", \"INTEGER\"),\n",
    "    bigquery.SchemaField(\"gross_salary\", \"INTEGER\"),\n",
    "    bigquery.SchemaField(\"has_student_loan\", \"BOOLEAN\"),\n",
    "    bigquery.SchemaField(\"student_loan_amount\", \"INTEGER\"),\n",
    "    bigquery.SchemaField(\"has_general_loan\", \"BOOLEAN\"),\n",
    "    bigquery.SchemaField(\"general_loan_amount\", \"INTEGER\"),\n",
    "    bigquery.SchemaField(\"has_alimony\", \"BOOLEAN\"),\n",
    "    bigquery.SchemaField(\"alimony_amount\", \"INTEGER\"),\n",
    "]\n",
    "\n",
    "# Specify the BigQuery dataset and table\n",
    "dataset_id = \"group11dataset\"    \n",
    "table_id_spouse = \"spouse\"    \n",
    "\n",
    "# Create the BigQuery table\n",
    "table_ref_spouse = client.dataset(dataset_id).table(table_id_spouse)\n",
    "table_spouse = bigquery.Table(table_ref_spouse, schema=schema_spouse)\n",
    "\n",
    "# Create the table if it doesn't exist\n",
    "client.create_table(table_spouse, exists_ok=True)\n",
    "print(f\"Table '{dataset_id}.{table_id_spouse}' created successfully.\")\n",
    "\n",
    " #Define the table schema for the house data\n",
    "schema_house = [\n",
    "    bigquery.SchemaField(\"Address\", \"STRING\"),\n",
    "    bigquery.SchemaField(\"City\", \"STRING\"),\n",
    "    bigquery.SchemaField(\"Price\", \"INTEGER\"),\n",
    "    bigquery.SchemaField(\"Lot_size\", \"STRING\"),\n",
    "    bigquery.SchemaField(\"Living_space_size\", \"STRING\"),\n",
    "    bigquery.SchemaField(\"Build_year\", \"STRING\"),\n",
    "    bigquery.SchemaField(\"Build_type\", \"STRING\"),\n",
    "    bigquery.SchemaField(\"House_type\", \"STRING\"),\n",
    "    bigquery.SchemaField(\"Roof\", \"STRING\"),\n",
    "    bigquery.SchemaField(\"Rooms\", \"STRING\"),\n",
    "    bigquery.SchemaField(\"Toilet\", \"STRING\"),\n",
    "    bigquery.SchemaField(\"Floors\", \"STRING\"),\n",
    "    bigquery.SchemaField(\"Energy_label\", \"STRING\"),\n",
    "    bigquery.SchemaField(\"Position\", \"STRING\"),\n",
    "    bigquery.SchemaField(\"Garden\", \"STRING\"),\n",
    "    bigquery.SchemaField(\"Estimated_neighbourhood_price_per\", \"FLOAT\"),\n",
    "    bigquery.SchemaField(\"Availability\", \"BOOLEAN\"),\n",
    "    bigquery.SchemaField(\"event_time\", \"TIMESTAMP\"),  \n",
    "]\n",
    "\n",
    "# Specify the BigQuery dataset and table\n",
    "dataset_id = \"group11dataset\"  \n",
    "table_id_house = \"house_pricing\"  \n",
    "\n",
    "# Create the BigQuery table for house data\n",
    "table_ref_house = client.dataset(dataset_id).table(table_id_house)\n",
    "table_house = bigquery.Table(table_ref_house, schema=schema_house)\n",
    "\n",
    "# Create the table if it doesn't exist\n",
    "client.create_table(table_house, exists_ok=True)\n",
    "\n",
    "print(f\"Table '{dataset_id}.{table_id_house}' created successfully.\")"
   ]
  },
  {
   "cell_type": "markdown",
   "id": "9d6dd101-86fa-41cd-b930-fe07c1da7bea",
   "metadata": {},
   "source": [
    "## get the datasets from the Google Bucket"
   ]
  },
  {
   "cell_type": "code",
   "execution_count": 19,
   "id": "3b4961ce-20ba-44a8-9426-cb3f9b87b8a2",
   "metadata": {},
   "outputs": [
    {
     "name": "stdout",
     "output_type": "stream",
     "text": [
      "root\n",
      " |-- ID: string (nullable = true)\n",
      " |-- age: string (nullable = true)\n",
      " |-- has_spouse: string (nullable = true)\n",
      " |-- spouse_ID: string (nullable = true)\n",
      " |-- gross_salary: string (nullable = true)\n",
      " |-- has_student_loan: string (nullable = true)\n",
      " |-- student_loan_amount: string (nullable = true)\n",
      " |-- has_general_loan: string (nullable = true)\n",
      " |-- general_loan_amount: string (nullable = true)\n",
      " |-- has_alimony: string (nullable = true)\n",
      " |-- alimony_amount: string (nullable = true)\n",
      "\n"
     ]
    }
   ],
   "source": [
    "from pyspark.sql import SparkSession\n",
    "from pyspark import SparkConf\n",
    "\n",
    "sparkConf = SparkConf()\n",
    "sparkConf.setMaster(\"spark://spark-master:7077\")\n",
    "sparkConf.setAppName(\"DataSourceSinkExample\")\n",
    "sparkConf.set(\"spark.driver.memory\", \"2g\")\n",
    "sparkConf.set(\"spark.executor.cores\", \"1\")\n",
    "sparkConf.set(\"spark.driver.cores\", \"1\")\n",
    "\n",
    "# create the spark session, which is the entry point to Spark SQL engine.\n",
    "spark = SparkSession.builder.config(conf=sparkConf).getOrCreate()\n",
    "\n",
    "# Setup hadoop fs configuration for schema gs://\n",
    "conf = spark.sparkContext._jsc.hadoopConfiguration()\n",
    "conf.set(\"fs.gs.impl\", \"com.google.cloud.hadoop.fs.gcs.GoogleHadoopFileSystem\")\n",
    "conf.set(\"fs.AbstractFileSystem.gs.impl\", \"com.google.cloud.hadoop.fs.gcs.GoogleHadoopFS\")\n",
    "\n",
    "# Specify the GCS path where you want to save the new DataFrames\n",
    "output_path_ind = 'gs://data_degroup11/individuals_updated2.csv'\n",
    "output_path_spouse = 'gs://data_degroup11/spouse_updated2.csv'\n",
    "output_path_house = 'gs://data_degroup11/house_pricing_updated2.csv'\n",
    "\n",
    "df_individuals =spark.read.csv(output_path_ind, header=True)\n",
    "df_spouse = spark.read.csv(output_path_spouse, header=True)\n",
    "df_housepricing = spark.read.csv(output_path_house, header = True)\n",
    "\n",
    "df_individuals.printSchema()"
   ]
  },
  {
   "cell_type": "markdown",
   "id": "21a66b31-5192-46a6-8216-fd4c8fb727c3",
   "metadata": {},
   "source": [
    "# Saving the dataframes to the bigquery"
   ]
  },
  {
   "cell_type": "code",
   "execution_count": 20,
   "id": "d6f6d30a-6d77-4224-8e2d-3f284a451992",
   "metadata": {},
   "outputs": [
    {
     "name": "stdout",
     "output_type": "stream",
     "text": [
      "dataframes have been written to the Google BigQuery\n"
     ]
    }
   ],
   "source": [
    "df_individuals.write.format('bigquery') \\\n",
    "  .option('table', 'degroup11.group11dataset.individuals') \\\n",
    "  .option(\"temporaryGcsBucket\", \"temp_degroup11\") \\\n",
    "  .mode(\"overwrite\").save()\n",
    "df_spouse.write.format('bigquery') \\\n",
    "  .option('table', 'degroup11.group11dataset.spouse') \\\n",
    "  .option(\"temporaryGcsBucket\", \"temp_degroup11\") \\\n",
    "  .mode(\"overwrite\").save()\n",
    "df_housepricing.write.format('bigquery') \\\n",
    "  .option('table', 'degroup11.group11dataset.house_pricing') \\\n",
    "  .option(\"temporaryGcsBucket\", \"temp_degroup11\") \\\n",
    "  .mode(\"overwrite\").save()\n",
    "print(\"dataframes have been written to the Google BigQuery\")"
   ]
  },
  {
   "cell_type": "code",
   "execution_count": 21,
   "id": "94a28432-8d9c-48c1-a571-88c6f67954a6",
   "metadata": {
    "collapsed": false,
    "jupyter": {
     "outputs_hidden": false
    }
   },
   "outputs": [
    {
     "name": "stdout",
     "output_type": "stream",
     "text": [
      "Row(('106', '18', 'true', '106', '75526', 'false', '0', 'true', '9288', 'false', '0'), {'ID': 0, 'age': 1, 'has_spouse': 2, 'spouse_ID': 3, 'gross_salary': 4, 'has_student_loan': 5, 'student_loan_amount': 6, 'has_general_loan': 7, 'general_loan_amount': 8, 'has_alimony': 9, 'alimony_amount': 10})\n",
      "Row(('153', '18', 'false', '153', '134600', 'false', '0', 'true', '5314', 'true', '1200'), {'ID': 0, 'age': 1, 'has_spouse': 2, 'spouse_ID': 3, 'gross_salary': 4, 'has_student_loan': 5, 'student_loan_amount': 6, 'has_general_loan': 7, 'general_loan_amount': 8, 'has_alimony': 9, 'alimony_amount': 10})\n",
      "Row(('211', '18', 'true', '211', '144798', 'true', '26010', 'true', '1815', 'false', '0'), {'ID': 0, 'age': 1, 'has_spouse': 2, 'spouse_ID': 3, 'gross_salary': 4, 'has_student_loan': 5, 'student_loan_amount': 6, 'has_general_loan': 7, 'general_loan_amount': 8, 'has_alimony': 9, 'alimony_amount': 10})\n",
      "Row(('354', '18', 'true', '354', '150580', 'true', '52758', 'true', '8222', 'false', '0'), {'ID': 0, 'age': 1, 'has_spouse': 2, 'spouse_ID': 3, 'gross_salary': 4, 'has_student_loan': 5, 'student_loan_amount': 6, 'has_general_loan': 7, 'general_loan_amount': 8, 'has_alimony': 9, 'alimony_amount': 10})\n",
      "Row(('363', '18', 'false', '363', '186763', 'false', '0', 'true', '1552', 'false', '0'), {'ID': 0, 'age': 1, 'has_spouse': 2, 'spouse_ID': 3, 'gross_salary': 4, 'has_student_loan': 5, 'student_loan_amount': 6, 'has_general_loan': 7, 'general_loan_amount': 8, 'has_alimony': 9, 'alimony_amount': 10})\n",
      "Row(('469', '18', 'true', '469', '59116', 'false', '0', 'true', '7749', 'false', '0'), {'ID': 0, 'age': 1, 'has_spouse': 2, 'spouse_ID': 3, 'gross_salary': 4, 'has_student_loan': 5, 'student_loan_amount': 6, 'has_general_loan': 7, 'general_loan_amount': 8, 'has_alimony': 9, 'alimony_amount': 10})\n",
      "Row(('520', '18', 'true', '520', '189883', 'true', '38459', 'true', '8634', 'true', '3697'), {'ID': 0, 'age': 1, 'has_spouse': 2, 'spouse_ID': 3, 'gross_salary': 4, 'has_student_loan': 5, 'student_loan_amount': 6, 'has_general_loan': 7, 'general_loan_amount': 8, 'has_alimony': 9, 'alimony_amount': 10})\n",
      "Row(('539', '18', 'true', '539', '157499', 'true', '66932', 'true', '8292', 'false', '0'), {'ID': 0, 'age': 1, 'has_spouse': 2, 'spouse_ID': 3, 'gross_salary': 4, 'has_student_loan': 5, 'student_loan_amount': 6, 'has_general_loan': 7, 'general_loan_amount': 8, 'has_alimony': 9, 'alimony_amount': 10})\n",
      "Row(('594', '18', 'true', '594', '171667', 'false', '0', 'true', '6562', 'true', '1858'), {'ID': 0, 'age': 1, 'has_spouse': 2, 'spouse_ID': 3, 'gross_salary': 4, 'has_student_loan': 5, 'student_loan_amount': 6, 'has_general_loan': 7, 'general_loan_amount': 8, 'has_alimony': 9, 'alimony_amount': 10})\n",
      "Row(('9', '19', 'false', '9', '168304', 'false', '0', 'true', '3907', 'false', '0'), {'ID': 0, 'age': 1, 'has_spouse': 2, 'spouse_ID': 3, 'gross_salary': 4, 'has_student_loan': 5, 'student_loan_amount': 6, 'has_general_loan': 7, 'general_loan_amount': 8, 'has_alimony': 9, 'alimony_amount': 10})\n"
     ]
    }
   ],
   "source": [
    "# Perform a query.\n",
    "client = bigquery.Client(project=\"degroup11\")   # use your project id\n",
    "\n",
    "QUERY = (\n",
    "    'SELECT * FROM `degroup11.group11dataset.individuals` LIMIT 10')   # use the correct project id, etc.\n",
    "query_job = client.query(QUERY)  # API request\n",
    "rows = query_job.result()  # Waits for query to finish\n",
    "\n",
    "for row in rows:\n",
    "    print(row)"
   ]
  },
  {
   "cell_type": "code",
   "execution_count": 22,
   "id": "17e940c9-f30c-48d3-815a-8c9a34ae1bcb",
   "metadata": {
    "collapsed": false,
    "jupyter": {
     "outputs_hidden": false
    }
   },
   "outputs": [],
   "source": [
    "spark.stop()"
   ]
  },
  {
   "cell_type": "code",
   "execution_count": null,
   "id": "d192eb12-a182-4cba-a51b-93ab3c4348d1",
   "metadata": {},
   "outputs": [],
   "source": []
  }
 ],
 "metadata": {
  "kernelspec": {
   "display_name": "Python 3 (ipykernel)",
   "language": "python",
   "name": "python3"
  },
  "language_info": {
   "codemirror_mode": {
    "name": "ipython",
    "version": 3
   },
   "file_extension": ".py",
   "mimetype": "text/x-python",
   "name": "python",
   "nbconvert_exporter": "python",
   "pygments_lexer": "ipython3",
   "version": "3.11.6"
  }
 },
 "nbformat": 4,
 "nbformat_minor": 5
}
