{
 "cells": [
  {
   "cell_type": "markdown",
   "id": "460f639e-6fe3-4098-81c7-3083f227fd7e",
   "metadata": {},
   "source": [
    "## Initialize Google Big Query tables"
   ]
  },
  {
   "cell_type": "code",
   "execution_count": 1,
   "id": "2fcb1de8-97ea-4ef3-a6ac-cb0f10b947fb",
   "metadata": {},
   "outputs": [],
   "source": [
    "import sys\n",
    "#!{sys.executable} -m pip uninstall -q google-cloud-storage\n",
    "!{sys.executable} -m pip install -q google-cloud-storage\n",
    "!{sys.executable} -m pip install -q google-cloud-bigquery"
   ]
  },
  {
   "cell_type": "markdown",
   "id": "0058b4f9-5749-44f8-af8e-f374481f8607",
   "metadata": {},
   "source": [
    "## Create the schema struct fields for each table so that the dataframe is loaded with correct format"
   ]
  },
  {
   "cell_type": "code",
   "execution_count": 1,
   "id": "0ac4cb4d-7251-4022-897c-00f2b3bb1f2d",
   "metadata": {},
   "outputs": [],
   "source": [
    "from pyspark.sql.types import StructType, StructField, StringType, IntegerType, BooleanType, FloatType, TimestampType\n",
    "\n",
    "schema_struct_ind = StructType([\n",
    "    StructField(\"ID\", IntegerType(), True),\n",
    "    StructField(\"age\", IntegerType(), True),\n",
    "    StructField(\"has_spouse\", BooleanType(), True),\n",
    "    StructField(\"spouse_ID\", IntegerType(), True),\n",
    "    StructField(\"gross_salary\", IntegerType(), True),\n",
    "    StructField(\"has_student_loan\", BooleanType(), True),\n",
    "    StructField(\"student_loan_amount\", IntegerType(), True),\n",
    "    StructField(\"has_general_loan\", BooleanType(), True),\n",
    "    StructField(\"general_loan_amount\", IntegerType(), True),\n",
    "    StructField(\"has_alimony\", BooleanType(), True),\n",
    "    StructField(\"alimony_amount\", IntegerType(), True),\n",
    "])\n",
    "\n",
    "schema_struct_spouse = StructType([\n",
    "    StructField(\"spouse_ID\", IntegerType(), True),\n",
    "    StructField(\"age\", IntegerType(), True),\n",
    "    StructField(\"gross_salary\", IntegerType(), True),\n",
    "    StructField(\"has_student_loan\", BooleanType(), True),\n",
    "    StructField(\"student_loan_amount\", IntegerType(), True),\n",
    "    StructField(\"has_general_loan\", BooleanType(), True),\n",
    "    StructField(\"general_loan_amount\", IntegerType(), True),\n",
    "    StructField(\"has_alimony\", BooleanType(), True),\n",
    "    StructField(\"alimony_amount\", IntegerType(), True),\n",
    "])\n",
    "\n",
    "schema_struct_house = StructType([\n",
    "    StructField(\"Address\", StringType(), True),\n",
    "    StructField(\"City\", StringType(), True),\n",
    "    StructField(\"Price\", IntegerType(), True),\n",
    "    StructField(\"Lot_size\", StringType(), True),\n",
    "    StructField(\"Living_space_size\", StringType(), True),\n",
    "    StructField(\"Build_year\", StringType(), True),\n",
    "    StructField(\"Build_type\", StringType(), True),\n",
    "    StructField(\"House_type\", StringType(), True),\n",
    "    StructField(\"Roof\", StringType(), True),\n",
    "    StructField(\"Rooms\", StringType(), True),\n",
    "    StructField(\"Toilet\", StringType(), True),\n",
    "    StructField(\"Floors\", StringType(), True),\n",
    "    StructField(\"Energy_label\", StringType(), True),\n",
    "    StructField(\"Position\", StringType(), True),\n",
    "    StructField(\"Garden\", StringType(), True),\n",
    "    StructField(\"Estimated_neighbourhood_price_per\", FloatType(), True),\n",
    "    StructField(\"Availability\", BooleanType(), True),\n",
    "    StructField(\"event_time\", TimestampType(), True),\n",
    "])\n"
   ]
  },
  {
   "cell_type": "markdown",
   "id": "9d6dd101-86fa-41cd-b930-fe07c1da7bea",
   "metadata": {},
   "source": [
    "## load dataframe based on datasets from the Google Bucket"
   ]
  },
  {
   "cell_type": "code",
   "execution_count": 3,
   "id": "3b4961ce-20ba-44a8-9426-cb3f9b87b8a2",
   "metadata": {},
   "outputs": [
    {
     "name": "stdout",
     "output_type": "stream",
     "text": [
      "root\n",
      " |-- ID: integer (nullable = true)\n",
      " |-- age: integer (nullable = true)\n",
      " |-- has_spouse: boolean (nullable = true)\n",
      " |-- spouse_ID: integer (nullable = true)\n",
      " |-- gross_salary: integer (nullable = true)\n",
      " |-- has_student_loan: boolean (nullable = true)\n",
      " |-- student_loan_amount: integer (nullable = true)\n",
      " |-- has_general_loan: boolean (nullable = true)\n",
      " |-- general_loan_amount: integer (nullable = true)\n",
      " |-- has_alimony: boolean (nullable = true)\n",
      " |-- alimony_amount: integer (nullable = true)\n",
      "\n"
     ]
    }
   ],
   "source": [
    "from pyspark.sql import SparkSession\n",
    "from pyspark import SparkConf\n",
    "from pyspark.sql.types import StructType\n",
    "\n",
    "sparkConf = SparkConf()\n",
    "sparkConf.setMaster(\"spark://spark-master:7077\")\n",
    "sparkConf.setAppName(\"DataSourceSinkExample\")\n",
    "sparkConf.set(\"spark.driver.memory\", \"2g\")\n",
    "sparkConf.set(\"spark.executor.cores\", \"1\")\n",
    "sparkConf.set(\"spark.driver.cores\", \"1\")\n",
    "\n",
    "# create the spark session, which is the entry point to Spark SQL engine.\n",
    "spark = SparkSession.builder.config(conf=sparkConf).getOrCreate()\n",
    "\n",
    "# Setup hadoop fs configuration for schema gs://\n",
    "conf = spark.sparkContext._jsc.hadoopConfiguration()\n",
    "conf.set(\"fs.gs.impl\", \"com.google.cloud.hadoop.fs.gcs.GoogleHadoopFileSystem\")\n",
    "conf.set(\"fs.AbstractFileSystem.gs.impl\", \"com.google.cloud.hadoop.fs.gcs.GoogleHadoopFS\")\n",
    "\n",
    "# Specify the GCS path where you want to save the new DataFrames\n",
    "output_path_ind = 'gs://data_degroup11/individuals_updated2.csv'\n",
    "output_path_spouse = 'gs://data_degroup11/spouse_updated2.csv'\n",
    "output_path_house = 'gs://data_degroup11/house_pricing_updated2.csv'\n",
    "\n",
    "df_individuals =spark.read.load(output_path_ind, format=\"csv\", schema=schema_struct_ind, header=True)\n",
    "df_spouse = spark.read.load(output_path_spouse, format=\"csv\", schema=schema_struct_spouse, header=True)\n",
    "df_housepricing = spark.read.load(output_path_house, format=\"csv\", schema=schema_struct_house, header=True)\n",
    "\n",
    "df_individuals.printSchema()"
   ]
  },
  {
   "cell_type": "code",
   "execution_count": 4,
   "id": "ec080262-d4a4-46e9-b761-cb97d8298e9c",
   "metadata": {},
   "outputs": [
    {
     "name": "stdout",
     "output_type": "stream",
     "text": [
      "root\n",
      " |-- Address: string (nullable = true)\n",
      " |-- City: string (nullable = true)\n",
      " |-- Price: integer (nullable = true)\n",
      " |-- Lot_size: string (nullable = true)\n",
      " |-- Living_space_size: string (nullable = true)\n",
      " |-- Build_year: string (nullable = true)\n",
      " |-- Build_type: string (nullable = true)\n",
      " |-- House_type: string (nullable = true)\n",
      " |-- Roof: string (nullable = true)\n",
      " |-- Rooms: string (nullable = true)\n",
      " |-- Toilet: string (nullable = true)\n",
      " |-- Floors: string (nullable = true)\n",
      " |-- Energy_label: string (nullable = true)\n",
      " |-- Position: string (nullable = true)\n",
      " |-- Garden: string (nullable = true)\n",
      " |-- Estimated_neighbourhood_price_per: float (nullable = true)\n",
      " |-- Availability: boolean (nullable = true)\n",
      " |-- event_time: timestamp (nullable = true)\n",
      "\n"
     ]
    }
   ],
   "source": [
    "df_housepricing.printSchema()"
   ]
  },
  {
   "cell_type": "markdown",
   "id": "21a66b31-5192-46a6-8216-fd4c8fb727c3",
   "metadata": {},
   "source": [
    "# Saving the dataframes to the bigquery"
   ]
  },
  {
   "cell_type": "code",
   "execution_count": 5,
   "id": "d6f6d30a-6d77-4224-8e2d-3f284a451992",
   "metadata": {},
   "outputs": [
    {
     "name": "stdout",
     "output_type": "stream",
     "text": [
      "dataframes have been written to the Google BigQuery\n"
     ]
    }
   ],
   "source": [
    "df_individuals.write.format('bigquery') \\\n",
    "  .option('table', 'degroup11.group11dataset.individuals') \\\n",
    "  .option(\"temporaryGcsBucket\", \"temp_degroup11\") \\\n",
    "  .mode(\"overwrite\").save()\n",
    "df_spouse.write.format('bigquery') \\\n",
    "  .option('table', 'degroup11.group11dataset.spouse') \\\n",
    "  .option(\"temporaryGcsBucket\", \"temp_degroup11\") \\\n",
    "  .mode(\"overwrite\").save()\n",
    "df_housepricing.write.format('bigquery') \\\n",
    "  .option('table', 'degroup11.group11dataset.house_pricing') \\\n",
    "  .option(\"temporaryGcsBucket\", \"temp_degroup11\") \\\n",
    "  .mode(\"overwrite\").save()\n",
    "print(\"dataframes have been written to the Google BigQuery\")"
   ]
  },
  {
   "cell_type": "code",
   "execution_count": 6,
   "id": "17e940c9-f30c-48d3-815a-8c9a34ae1bcb",
   "metadata": {
    "collapsed": false,
    "jupyter": {
     "outputs_hidden": false
    }
   },
   "outputs": [],
   "source": [
    "spark.stop()"
   ]
  }
 ],
 "metadata": {
  "kernelspec": {
   "display_name": "Python 3 (ipykernel)",
   "language": "python",
   "name": "python3"
  },
  "language_info": {
   "codemirror_mode": {
    "name": "ipython",
    "version": 3
   },
   "file_extension": ".py",
   "mimetype": "text/x-python",
   "name": "python",
   "nbconvert_exporter": "python",
   "pygments_lexer": "ipython3",
   "version": "3.11.6"
  }
 },
 "nbformat": 4,
 "nbformat_minor": 5
}
