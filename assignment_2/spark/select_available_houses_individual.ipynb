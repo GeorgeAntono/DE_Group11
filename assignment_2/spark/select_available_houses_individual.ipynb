{
 "cells": [
  {
   "cell_type": "markdown",
   "id": "e4ece375-3819-47eb-b0ed-0722d808c1fd",
   "metadata": {},
   "source": [
    "## This notebook outputs a bigquery table with all the possible houses a random individual can afford. The random individual is randomly chosen. The randomly chosen individual is also created in a bigquery table as a cookie so that it can be identified"
   ]
  },
  {
   "cell_type": "code",
   "execution_count": 9,
   "id": "16186770-9408-4b2d-b994-15d7e8110c0b",
   "metadata": {},
   "outputs": [],
   "source": [
    "from pyspark.sql import SparkSession\n",
    "from pyspark import SparkConf\n",
    "import sys\n",
    "!{sys.executable} -m pip install -q google-cloud-bigquery\n",
    "from google.cloud import bigquery\n",
    "\n",
    "sparkConf = SparkConf()\n",
    "sparkConf.setMaster(\"spark://spark-master:7077\")\n",
    "sparkConf.setAppName(\"BigqueryExample\")\n",
    "sparkConf.set(\"spark.driver.memory\", \"2g\")\n",
    "sparkConf.set(\"spark.executor.cores\", \"1\")\n",
    "sparkConf.set(\"spark.driver.cores\", \"1\")\n",
    "# create the spark session, which is the entry point to Spark SQL engine.\n",
    "spark = SparkSession.builder.config(conf=sparkConf).getOrCreate()\n",
    "# Setup hadoop fs configuration for schema gs://\n",
    "conf = spark.sparkContext._jsc.hadoopConfiguration()\n",
    "conf.set(\"fs.gs.impl\", \"com.google.cloud.hadoop.fs.gcs.GoogleHadoopFileSystem\")\n",
    "conf.set(\"fs.AbstractFileSystem.gs.impl\", \"com.google.cloud.hadoop.fs.gcs.GoogleHadoopFS\")"
   ]
  },
  {
   "cell_type": "markdown",
   "id": "49c387d1-721c-4857-a0e8-6f106b101862",
   "metadata": {},
   "source": [
    "# Load tables"
   ]
  },
  {
   "cell_type": "code",
   "execution_count": 10,
   "id": "f8a69173-699f-4346-90cf-bed856ad5b45",
   "metadata": {},
   "outputs": [
    {
     "name": "stdout",
     "output_type": "stream",
     "text": [
      "root\n",
      " |-- ID: long (nullable = true)\n",
      " |-- spouse_ID: long (nullable = true)\n",
      " |-- max_to_spend_month: long (nullable = true)\n",
      " |-- possible_mortgage_amount: integer (nullable = true)\n",
      "\n",
      "+---+---------+------------------+------------------------+\n",
      "| ID|spouse_ID|max_to_spend_month|possible_mortgage_amount|\n",
      "+---+---------+------------------+------------------------+\n",
      "|734|      734|              1280|                  254494|\n",
      "|330|      330|              3840|                  763401|\n",
      "|321|      321|              1025|                  203744|\n",
      "|459|      459|              3841|                  763613|\n",
      "|972|      972|              -255|                  -50718|\n",
      "|128|      128|              3586|                  712909|\n",
      "| 14|       14|              4098|                  814678|\n",
      "|758|      758|              5378|                 1068931|\n",
      "|168|      168|               515|                  102510|\n",
      "|322|      322|               515|                  102440|\n",
      "|106|      106|              2051|                  407681|\n",
      "|377|      377|              4099|                  814830|\n",
      "|691|      691|              4611|                  916529|\n",
      "|531|      531|              6915|                 1374521|\n",
      "|232|      232|              1029|                  204634|\n",
      "|714|      714|              2565|                  509908|\n",
      "|174|      174|              5381|                 1069704|\n",
      "|831|      831|              1542|                  306502|\n",
      "|726|      726|              4614|                  917086|\n",
      "| 84|       84|               263|                   52300|\n",
      "+---+---------+------------------+------------------------+\n",
      "only showing top 20 rows\n",
      "\n"
     ]
    }
   ],
   "source": [
    "from pyspark.sql.functions import col\n",
    "df_mortgage = spark.read \\\n",
    "  .format(\"bigquery\") \\\n",
    "  .load(\" degroup11.group11dataset.mortgage_amount_batch\")    # project_id.datatset.tablename. Use your project id\n",
    "df_mortgage = df_mortgage.withColumn(\"possible_mortgage_amount\", col(\"possible_mortgage_amount\").cast(\"int\"))\n",
    "\n",
    "df_mortgage.printSchema()\n",
    "df_mortgage.show()"
   ]
  },
  {
   "cell_type": "code",
   "execution_count": 11,
   "id": "f4124e73-115a-40ae-890e-3678297cceb1",
   "metadata": {},
   "outputs": [
    {
     "name": "stdout",
     "output_type": "stream",
     "text": [
      "root\n",
      " |-- Address: string (nullable = true)\n",
      " |-- City: string (nullable = true)\n",
      " |-- Price: integer (nullable = true)\n",
      " |-- Lot_size: string (nullable = true)\n",
      " |-- Living_space_size: string (nullable = true)\n",
      " |-- Build_year: string (nullable = true)\n",
      " |-- Build_type: string (nullable = true)\n",
      " |-- House_type: string (nullable = true)\n",
      " |-- Roof: string (nullable = true)\n",
      " |-- Rooms: string (nullable = true)\n",
      " |-- Toilet: string (nullable = true)\n",
      " |-- Floors: string (nullable = true)\n",
      " |-- Energy_label: string (nullable = true)\n",
      " |-- Position: string (nullable = true)\n",
      " |-- Garden: string (nullable = true)\n",
      " |-- Estimated_neighbourhood_price_per: double (nullable = true)\n",
      " |-- Availability: boolean (nullable = true)\n",
      " |-- event_time: timestamp (nullable = true)\n",
      "\n"
     ]
    }
   ],
   "source": [
    "df_housing = spark.read \\\n",
    "  .format(\"bigquery\") \\\n",
    "  .load(\" degroup11.group11dataset.house_pricing\")    # project_id.datatset.tablename. Use your project id\n",
    "df_housing = df_housing.withColumn(\"Price\", col(\"Price\").cast(\"int\"))\n",
    "df_housing.printSchema()\n"
   ]
  },
  {
   "cell_type": "markdown",
   "id": "e28c203f-70b9-47c9-a3cb-aae0bfa22234",
   "metadata": {},
   "source": [
    "## Take a random person from the dataset"
   ]
  },
  {
   "cell_type": "code",
   "execution_count": 12,
   "id": "b9b6dcd3-6b29-4831-993d-ba7907717c28",
   "metadata": {},
   "outputs": [
    {
     "name": "stdout",
     "output_type": "stream",
     "text": [
      "+---+---------+------------------+------------------------+\n",
      "| ID|spouse_ID|max_to_spend_month|possible_mortgage_amount|\n",
      "+---+---------+------------------+------------------------+\n",
      "|149|      149|              5340|                 1061500|\n",
      "+---+---------+------------------+------------------------+\n",
      "\n"
     ]
    }
   ],
   "source": [
    "from pyspark.sql.functions import col, udf, window\n",
    "from random import randint\n",
    "\n",
    "def select_person_id():\n",
    "    chosen_ID = randint(1, df_mortgage.count())\n",
    "    return chosen_ID\n",
    "\n",
    "selected_df = df_mortgage.filter( col(\"ID\") == select_person_id())\n",
    "selected_df.show()"
   ]
  },
  {
   "cell_type": "code",
   "execution_count": 13,
   "id": "ad58d663-12e5-4960-9f4f-f45a56aabd28",
   "metadata": {},
   "outputs": [
    {
     "name": "stdout",
     "output_type": "stream",
     "text": [
      "+------------+\n",
      "|Availability|\n",
      "+------------+\n",
      "|       false|\n",
      "|        true|\n",
      "|       false|\n",
      "|        true|\n",
      "|        true|\n",
      "|        true|\n",
      "|        true|\n",
      "|       false|\n",
      "|        true|\n",
      "|       false|\n",
      "|       false|\n",
      "|        true|\n",
      "|        true|\n",
      "|       false|\n",
      "|        true|\n",
      "|       false|\n",
      "|        true|\n",
      "|       false|\n",
      "|       false|\n",
      "|       false|\n",
      "+------------+\n",
      "only showing top 20 rows\n",
      "\n"
     ]
    }
   ],
   "source": [
    "df_housing.select(\"Availability\").show()"
   ]
  },
  {
   "cell_type": "code",
   "execution_count": 14,
   "id": "ae8ec1ea-06a0-4b5f-b132-4fcf7b04f36e",
   "metadata": {},
   "outputs": [
    {
     "name": "stdout",
     "output_type": "stream",
     "text": [
      "+--------------------+--------------------+-------+--------+-----------------+----------+--------------+--------------------+--------------------+--------------------+--------------------+--------------------+------------+--------------------+--------------------+---------------------------------+------------+--------------------+\n",
      "|             Address|                City|  Price|Lot_size|Living_space_size|Build_year|    Build_type|          House_type|                Roof|               Rooms|              Toilet|              Floors|Energy_label|            Position|              Garden|Estimated_neighbourhood_price_per|Availability|          event_time|\n",
      "+--------------------+--------------------+-------+--------+-----------------+----------+--------------+--------------------+--------------------+--------------------+--------------------+--------------------+------------+--------------------+--------------------+---------------------------------+------------+--------------------+\n",
      "|         Vikinghof 1|           Hoofddorp| 745000|  331 m²|           148 m²|      1975|Bestaande bouw|   Villa, hoekwoning|    Samengesteld dak|4 kamers (3 slaap...|1 badkamer en 1 a...|2 woonlagen en ee...|           B|Aan rustige weg, ...|Achtertuin, voort...|                            3.375|        true|2023-12-05 00:58:...|\n",
      "|   Copernicuslaan 14|           Hoogeveen| 399500|  508 m²|           137 m²|      1971|Bestaande bouw|Bungalow, hoekwoning|Plat dak bedekt m...|6 kamers (5 slaap...|1 badkamer en 1 a...|          1 woonlaag|           C|Aan rustige weg e...|Achtertuin en voo...|                5.059999942779541|        true|2023-12-04 19:24:...|\n",
      "|Prins Constantijn...|        Badhoevedorp| 945000|  624 m²|           167 m²|      1976|Bestaande bouw|Bungalow, hoekwoning|Plat dak bedekt m...|5 kamers (3 slaap...|1 badkamer en 1 a...|         2 woonlagen|           C|Aan rustige weg, ...|         Tuin rondom|               1.6299999952316284|        true|2023-12-04 23:31:...|\n",
      "| Theo Hendriksehof 2|           Beverwijk| 500000|  166 m²|           103 m²|      1978|Bestaande bouw|Bungalow, hoekwoning|Plat dak bedekt m...|4 kamers (3 slaap...|1 badkamer en 1 a...|         2 woonlagen|           D|     Aan rustige weg|        Patio/atrium|                2.265000104904175|        true|2023-12-05 00:34:...|\n",
      "|     Het Kasteel 216|           Apeldoorn| 349500|  196 m²|           119 m²|      1995|Bestaande bouw|Bungalow, hoekwoning|Plat dak bedekt m...|5 kamers (3 slaap...|2 badkamers en 1 ...|         2 woonlagen|           A|Aan rustige weg, ...|Achtertuin en voo...|                 6.09499979019165|        true|2023-12-04 20:52:...|\n",
      "|         Nijvelaar 7|          Den Dungen| 550000|  535 m²|           140 m²|      NULL|Bestaande bouw|Landhuis, eindwoning|Zadeldak bedekt m...|5 kamers (3 slaap...|1 badkamer en 1 a...|         2 woonlagen|           C|Aan rustige weg, ...|Achtertuin en zij...|                             NULL|        true|2023-12-04 22:55:...|\n",
      "|        Papenpad 4 c|             Zaandam| 500000|  113 m²|           131 m²|      1925|Bestaande bouw|Herenhuis, eindwo...|Samengesteld dak ...|4 kamers (2 slaap...|1 badkamer en 1 a...|         3 woonlagen|           D|Aan rustige weg, ...|          Achtertuin|                4.260000228881836|        true|2023-12-04 23:14:...|\n",
      "|          Krulmos 18|Nieuwerkerk aan d...| 390000|  124 m²|           131 m²|      1977|Bestaande bouw|Herenhuis, eindwo...|Plat dak bedekt m...|5 kamers (4 slaap...|          1 badkamer|3 woonlagen en ee...|           C|Aan park, aan rus...|Achtertuin en voo...|               2.2300000190734863|        true|2023-12-04 22:00:...|\n",
      "|Simon Vestdijkstr...|            Den Haag| 799500|  234 m²|           239 m²|      2004|Bestaande bouw|Herenhuis, eindwo...|Lessenaardak bede...|8 kamers (7 slaap...|2 badkamers en 2 ...|         3 woonlagen|           A|Aan rustige weg, ...|Achtertuin en voo...|               2.1700000762939453|        true|2023-12-05 00:09:...|\n",
      "|          Fnidsen 31|             Alkmaar| 595000|   88 m²|           116 m²|      1625|Bestaande bouw|Herenhuis, hoekwo...|Zadeldak bedekt m...|4 kamers (2 slaap...|1 badkamer en 1 a...|         2 woonlagen|           F|     Aan rustige weg|Achtertuin, patio...|                3.174999952316284|        true|2023-12-04 20:16:...|\n",
      "|          Westwal 91|                Goes| 415000|  137 m²|           126 m²|      1899|Bestaande bouw|Herenhuis, hoekwo...|Zadeldak bedekt m...|4 kamers (3 slaap...|1 badkamer en 1 a...|2 woonlagen, een ...|           F|Aan park en in ce...|          Achtertuin|                2.134999990463257|        true|2023-12-05 01:21:...|\n",
      "|Prins Hendrikkade 12|             Woerden| 425000|   80 m²|            80 m²|      1910|Bestaande bouw|Herenhuis, hoekwo...|Zadeldak bedekt m...|4 kamers (3 slaap...|1 badkamer en 1 a...|         2 woonlagen|           C|Aan vaarwater, aa...|          Achtertuin|                2.640000104904175|        true|2023-12-04 23:32:...|\n",
      "|      Leenderweg 280|           Eindhoven| 595000|  230 m²|           167 m²|      1929|Bestaande bouw|Herenhuis, hoekwo...|Schilddak bedekt ...|6 kamers (5 slaap...|2 badkamers en 1 ...|         3 woonlagen|           C|In woonwijk en vr...|Achtertuin en voo...|               1.8200000524520874|        true|2023-12-04 22:12:...|\n",
      "|     Meloenstraat 68|            Den Haag| 895000|  121 m²|           147 m²|      1930|Bestaande bouw|Herenhuis, hoekwo...|    Samengesteld dak|6 kamers (4 slaap...|2 badkamers en 2 ...|         3 woonlagen|           F|Aan rustige weg e...|Achtertuin en voo...|                             7.25|        true|2023-12-04 22:35:...|\n",
      "|       Sportlaan 207|            Den Haag|1050000|  318 m²|           169 m²|      1930|Bestaande bouw|Herenhuis, hoekwo...|Zadeldak bedekt m...|7 kamers (5 slaap...|2 badkamers en 1 ...|         4 woonlagen|           F|         In woonwijk|Achtertuin, voort...|                5.329999923706055|        true|2023-12-05 00:18:...|\n",
      "| Koninginnestraat 24|          IJzendijke| 675000|  622 m²|           626 m²|      1950|Bestaande bouw|Herenhuis, hoekwo...|Schilddak bedekt ...|11 kamers (9 slaa...|7 badkamers en 1 ...|2 woonlagen en ee...|           A|Aan rustige weg e...|          Achtertuin|                1.809999942779541|        true|2023-12-04 21:50:...|\n",
      "|          Parkweg 34|            Maarssen| 695000|  237 m²|           200 m²|      1954|Bestaande bouw|Herenhuis, hoekwo...|Zadeldak bedekt m...|8 kamers (6 slaap...|2 badkamers en 1 ...|         4 woonlagen|           E|          In centrum|Achtertuin, voort...|                            960.0|        true|2023-12-04 23:16:...|\n",
      "| Frits Diepenlaan 14|            Den Haag| 625000|  263 m²|           154 m²|      1998|Bestaande bouw|Herenhuis, hoekwo...|Zadeldak bedekt m...|5 kamers (4 slaap...|1 badkamer en 1 a...|3 woonlagen en ee...|           B|         In woonwijk|Achtertuin en voo...|                5.539999961853027|        true|2023-12-04 20:18:...|\n",
      "|   Mondriaanstraat 1|       Bergschenhoek| 600000|  201 m²|           151 m²|      1998|Bestaande bouw|Herenhuis, hoekwo...|Plat dak bedekt m...|7 kamers (6 slaap...|         2 badkamers|         3 woonlagen|           B|Aan rustige weg e...|Achtertuin, voort...|                 4.15500020980835|        true|2023-12-04 22:46:...|\n",
      "|     Minervasingel 9|              Almere| 475000|  136 m²|           131 m²|      2013|Bestaande bouw|Herenhuis, hoekwo...|Plat dak bedekt m...|4 kamers (3 slaap...|1 badkamer en 1 a...|         3 woonlagen|          A+|Aan rustige weg, ...|          Achtertuin|                7.269999980926514|        true|2023-12-04 22:40:...|\n",
      "+--------------------+--------------------+-------+--------+-----------------+----------+--------------+--------------------+--------------------+--------------------+--------------------+--------------------+------------+--------------------+--------------------+---------------------------------+------------+--------------------+\n",
      "only showing top 20 rows\n",
      "\n"
     ]
    }
   ],
   "source": [
    "available_houses_chosen_individual = df_housing.filter(col(\"Price\") < selected_df.first()\\\n",
    "                                                       .asDict()[\"possible_mortgage_amount\"])\\\n",
    "                                                        .filter(col(\"Availability\") == True)\n",
    "available_houses_chosen_individual.show()"
   ]
  },
  {
   "cell_type": "markdown",
   "id": "536f8e5f-d3c3-4b0a-9c0a-9a3033c46f9e",
   "metadata": {},
   "source": [
    "## Take all the houses that that have a lower price than the possible mortage amount and are available"
   ]
  },
  {
   "cell_type": "code",
   "execution_count": 15,
   "id": "8f0e214b-8928-419c-8d79-c239595d8910",
   "metadata": {},
   "outputs": [
    {
     "name": "stdout",
     "output_type": "stream",
     "text": [
      "+--------------------+-----------+-------+------------+--------------------+\n",
      "|             Address|       City|  Price|Availability|          event_time|\n",
      "+--------------------+-----------+-------+------------+--------------------+\n",
      "|  Harderwijkerweg 57|     Ermelo|1050000|        true|2023-12-04 20:39:...|\n",
      "|      Wildrijklaan 8| Sassenheim|1050000|        true|2023-12-05 01:25:...|\n",
      "|        Stroomrug 19|      Cuijk|1050000|        true|2023-12-05 00:29:...|\n",
      "|      Reigerslaan 40|   Voorhout|1050000|        true|2023-12-04 23:41:...|\n",
      "|         Kruisweg 33|Bergen (NH)|1050000|        true|2023-12-04 21:59:...|\n",
      "|       Sportlaan 207|   Den Haag|1050000|        true|2023-12-05 00:18:...|\n",
      "|   Maaskade 89 A + B|  Rotterdam|1050000|        true|2023-12-04 22:24:...|\n",
      "|Engelsbergenstraa...|  Eindhoven|1050000|        true|2023-12-04 20:09:...|\n",
      "|   Stationsstraat 23|  Elst (GE)|1050000|        true|2023-12-05 00:22:...|\n",
      "|      Platte knoop 8|     Almere|1050000|        true|2023-12-04 23:26:...|\n",
      "+--------------------+-----------+-------+------------+--------------------+\n",
      "only showing top 10 rows\n",
      "\n"
     ]
    }
   ],
   "source": [
    "available_houses_chosen_individual = df_housing.filter(col(\"Price\") < selected_df.first()\\\n",
    "                                                       .asDict()[\"possible_mortgage_amount\"])\\\n",
    "                                                        .filter(col(\"Availability\") == True)\n",
    "\n",
    "available_houses = available_houses_chosen_individual.select('Address','City','Price','Availability',\"event_time\").orderBy(col(\"Price\").desc())\n",
    "available_houses.show(10)\n"
   ]
  },
  {
   "cell_type": "code",
   "execution_count": 16,
   "id": "1f6ace15-b2b3-4284-92ab-1e21283eac2b",
   "metadata": {
    "scrolled": true
   },
   "outputs": [
    {
     "data": {
      "text/plain": [
       "500"
      ]
     },
     "execution_count": 16,
     "metadata": {},
     "output_type": "execute_result"
    }
   ],
   "source": [
    "selected_houses = spark.createDataFrame(available_houses.take(500))\n",
    "selected_houses.count()\n",
    "selected_houses.distinct().count()"
   ]
  },
  {
   "cell_type": "markdown",
   "id": "985572f1-e1d8-4731-a4c6-a769f2b6ecaf",
   "metadata": {},
   "source": [
    "## Create the selected houses notebook"
   ]
  },
  {
   "cell_type": "code",
   "execution_count": 17,
   "id": "430bf5ff-7b3e-47e9-9425-c2b51cb2bfbc",
   "metadata": {
    "jp-MarkdownHeadingCollapsed": true
   },
   "outputs": [
    {
     "data": {
      "text/plain": [
       "Table(TableReference(DatasetReference('degroup11', 'group11dataset'), 'available_houses_for_individual'))"
      ]
     },
     "execution_count": 17,
     "metadata": {},
     "output_type": "execute_result"
    }
   ],
   "source": [
    "# Initialize the BigQuery client\n",
    "client = bigquery.Client(project=\"degroup11\")  \n",
    "\n",
    "# Define the table schema\n",
    "schema = [\n",
    "    bigquery.SchemaField(\"Address\", \"STRING\"),\n",
    "    bigquery.SchemaField(\"City\", \"STRING\"),\n",
    "    bigquery.SchemaField(\"Price\", \"STRING\"),\n",
    "    bigquery.SchemaField(\"Availability\", \"BOOLEAN\"),\n",
    "    bigquery.SchemaField(\"event_time\", \"TIMESTAMP\"),\n",
    "\n",
    "]\n",
    "\n",
    "# Specify the BigQuery dataset and table\n",
    "dataset_id = \"group11dataset\"  \n",
    "table_id = \"available_houses_for_individual\"   \n",
    "\n",
    "# Create the BigQuery table\n",
    "table_ref = client.dataset(dataset_id).table(table_id)\n",
    "table = bigquery.Table(table_ref, schema=schema)\n",
    "\n",
    "# Create the table if it doesn't exist\n",
    "client.create_table(table, exists_ok=True)"
   ]
  },
  {
   "cell_type": "markdown",
   "id": "b75064af-5fdb-4a1a-99fa-247b1e9c630a",
   "metadata": {},
   "source": [
    "## write Dataframe houses available for individual to bigquery"
   ]
  },
  {
   "cell_type": "code",
   "execution_count": 18,
   "id": "787e8d9d-2761-4b4f-8c5f-4bfc0c9cf994",
   "metadata": {},
   "outputs": [],
   "source": [
    "selected_houses.write.format(\"bigquery\").\\\n",
    "option('table', \"degroup11.group11dataset.available_houses_for_individual\").\\\n",
    "option(\"temporaryGcsBucket\", \"temp_degroup11\"). \\\n",
    "mode(\"overwrite\").save()"
   ]
  },
  {
   "cell_type": "markdown",
   "id": "6a244db9-19b1-4d96-9100-3702c15ef003",
   "metadata": {},
   "source": [
    "## Create the identifying table "
   ]
  },
  {
   "cell_type": "code",
   "execution_count": 19,
   "id": "54f3a676-b36f-4cba-a259-d92aa269697b",
   "metadata": {},
   "outputs": [
    {
     "data": {
      "text/plain": [
       "Table(TableReference(DatasetReference('degroup11', 'group11dataset'), 'cookie_ID_houses'))"
      ]
     },
     "execution_count": 19,
     "metadata": {},
     "output_type": "execute_result"
    }
   ],
   "source": [
    "# Initialize the BigQuery client\n",
    "client = bigquery.Client(project=\"degroup11\")  \n",
    "\n",
    "# Define the table schema\n",
    "schema = [\n",
    "    bigquery.SchemaField(\"ID\", \"STRING\"),\n",
    "    bigquery.SchemaField(\"spouse_ID\", \"STRING\"),\n",
    "    bigquery.SchemaField(\"max_to_spend_month\", \"INTEGER\"),\n",
    "    bigquery.SchemaField(\"possible_mortgage_amount\", \"INTEGER\"),\n",
    "\n",
    "]\n",
    "\n",
    "# Specify the BigQuery dataset and table\n",
    "dataset_id = \"group11dataset\"  \n",
    "table_id = \"cookie_ID_houses\"   \n",
    "\n",
    "# Create the BigQuery table\n",
    "table_ref = client.dataset(dataset_id).table(table_id)\n",
    "table = bigquery.Table(table_ref, schema=schema)\n",
    "\n",
    "# Create the table if it doesn't exist\n",
    "client.create_table(table, exists_ok=True)"
   ]
  },
  {
   "cell_type": "markdown",
   "id": "e7d863f5-cd04-4199-b0e2-8b82a6ff8d67",
   "metadata": {},
   "source": [
    "## Write dataframe cookie to bigquery"
   ]
  },
  {
   "cell_type": "code",
   "execution_count": 20,
   "id": "6a5bf32f-105a-4db8-a802-6b33fc2f2ca6",
   "metadata": {},
   "outputs": [],
   "source": [
    "selected_df.write.format(\"bigquery\").\\\n",
    "option('table', \"degroup11.group11dataset.cookie_ID_houses\").\\\n",
    "option(\"temporaryGcsBucket\", \"temp_degroup11\"). \\\n",
    "mode(\"overwrite\").save()"
   ]
  },
  {
   "cell_type": "code",
   "execution_count": 21,
   "id": "5c0286a4-1fa9-497b-9d0a-ad4da7688124",
   "metadata": {},
   "outputs": [],
   "source": [
    "spark.stop()"
   ]
  }
 ],
 "metadata": {
  "kernelspec": {
   "display_name": "Python 3 (ipykernel)",
   "language": "python",
   "name": "python3"
  },
  "language_info": {
   "codemirror_mode": {
    "name": "ipython",
    "version": 3
   },
   "file_extension": ".py",
   "mimetype": "text/x-python",
   "name": "python",
   "nbconvert_exporter": "python",
   "pygments_lexer": "ipython3",
   "version": "3.11.6"
  }
 },
 "nbformat": 4,
 "nbformat_minor": 5
}
