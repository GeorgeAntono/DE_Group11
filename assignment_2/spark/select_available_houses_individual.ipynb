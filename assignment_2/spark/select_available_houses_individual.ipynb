{
 "cells": [
  {
   "cell_type": "markdown",
   "id": "e4ece375-3819-47eb-b0ed-0722d808c1fd",
   "metadata": {},
   "source": [
    "## This notebook outputs a bigquery table with all the possible houses a random individual can afford. The random individual is randomly chosen. The randomly chosen individual is also created in a bigquery table as a cookie so that it can be identified"
   ]
  },
  {
   "cell_type": "code",
   "execution_count": 1,
   "id": "16186770-9408-4b2d-b994-15d7e8110c0b",
   "metadata": {},
   "outputs": [],
   "source": [
    "from pyspark.sql import SparkSession\n",
    "from pyspark import SparkConf\n",
    "import sys\n",
    "!{sys.executable} -m pip install -q google-cloud-bigquery\n",
    "from google.cloud import bigquery\n",
    "\n",
    "sparkConf = SparkConf()\n",
    "sparkConf.setMaster(\"spark://spark-master:7077\")\n",
    "sparkConf.setAppName(\"BigqueryExample\")\n",
    "sparkConf.set(\"spark.driver.memory\", \"2g\")\n",
    "sparkConf.set(\"spark.executor.cores\", \"1\")\n",
    "sparkConf.set(\"spark.driver.cores\", \"1\")\n",
    "# create the spark session, which is the entry point to Spark SQL engine.\n",
    "spark = SparkSession.builder.config(conf=sparkConf).getOrCreate()\n",
    "# Setup hadoop fs configuration for schema gs://\n",
    "conf = spark.sparkContext._jsc.hadoopConfiguration()\n",
    "conf.set(\"fs.gs.impl\", \"com.google.cloud.hadoop.fs.gcs.GoogleHadoopFileSystem\")\n",
    "conf.set(\"fs.AbstractFileSystem.gs.impl\", \"com.google.cloud.hadoop.fs.gcs.GoogleHadoopFS\")"
   ]
  },
  {
   "cell_type": "markdown",
   "id": "49c387d1-721c-4857-a0e8-6f106b101862",
   "metadata": {},
   "source": [
    "# Load tables"
   ]
  },
  {
   "cell_type": "code",
   "execution_count": 2,
   "id": "f8a69173-699f-4346-90cf-bed856ad5b45",
   "metadata": {},
   "outputs": [
    {
     "name": "stdout",
     "output_type": "stream",
     "text": [
      "root\n",
      " |-- ID: string (nullable = true)\n",
      " |-- spouse_ID: string (nullable = true)\n",
      " |-- max_to_spend_month: long (nullable = true)\n",
      " |-- possible_mortgage_amount: integer (nullable = true)\n",
      "\n",
      "+---+---------+------------------+------------------------+\n",
      "| ID|spouse_ID|max_to_spend_month|possible_mortgage_amount|\n",
      "+---+---------+------------------+------------------------+\n",
      "|734|      734|              1280|                  254494|\n",
      "|321|      321|              1025|                  203744|\n",
      "|539|      539|              2561|                  509187|\n",
      "|972|      972|              -255|                  -50718|\n",
      "|128|      128|              3586|                  712909|\n",
      "|168|      168|               515|                  102510|\n",
      "|322|      322|               515|                  102440|\n",
      "|106|      106|              2051|                  407681|\n",
      "|377|      377|              4099|                  814830|\n",
      "|691|      691|              4611|                  916529|\n",
      "|531|      531|              6915|                 1374521|\n",
      "|123|      123|              2564|                  509725|\n",
      "|232|      232|              1029|                  204634|\n",
      "|831|      831|              1541|                  306437|\n",
      "|537|      537|              2053|                  408163|\n",
      "|387|      387|              2054|                  408288|\n",
      "| 84|       84|               263|                   52300|\n",
      "|204|      204|              4103|                  815697|\n",
      "|904|      904|              1032|                  205267|\n",
      "|760|      760|              2568|                  510547|\n",
      "+---+---------+------------------+------------------------+\n",
      "only showing top 20 rows\n",
      "\n"
     ]
    }
   ],
   "source": [
    "from pyspark.sql.functions import col\n",
    "df_mortgage = spark.read \\\n",
    "  .format(\"bigquery\") \\\n",
    "  .load(\" degroup11.group11dataset.mortgage_amount_batch\")    # project_id.datatset.tablename. Use your project id\n",
    "df_mortgage = df_mortgage.withColumn(\"possible_mortgage_amount\", col(\"possible_mortgage_amount\").cast(\"int\"))\n",
    "\n",
    "df_mortgage.printSchema()\n",
    "df_mortgage.show()"
   ]
  },
  {
   "cell_type": "code",
   "execution_count": 3,
   "id": "f4124e73-115a-40ae-890e-3678297cceb1",
   "metadata": {},
   "outputs": [
    {
     "name": "stdout",
     "output_type": "stream",
     "text": [
      "root\n",
      " |-- Address: string (nullable = true)\n",
      " |-- City: string (nullable = true)\n",
      " |-- Price: integer (nullable = true)\n",
      " |-- Lot_size: string (nullable = true)\n",
      " |-- Living_space_size: string (nullable = true)\n",
      " |-- Build_year: string (nullable = true)\n",
      " |-- Build_type: string (nullable = true)\n",
      " |-- House_type: string (nullable = true)\n",
      " |-- Roof: string (nullable = true)\n",
      " |-- Rooms: string (nullable = true)\n",
      " |-- Toilet: string (nullable = true)\n",
      " |-- Floors: string (nullable = true)\n",
      " |-- Energy_label: string (nullable = true)\n",
      " |-- Position: string (nullable = true)\n",
      " |-- Garden: string (nullable = true)\n",
      " |-- Estimated_neighbourhood_price_per: string (nullable = true)\n",
      " |-- Availability: string (nullable = true)\n",
      " |-- event_time: string (nullable = true)\n",
      "\n"
     ]
    }
   ],
   "source": [
    "df_housing = spark.read \\\n",
    "  .format(\"bigquery\") \\\n",
    "  .load(\" degroup11.group11dataset.house_pricing\")    # project_id.datatset.tablename. Use your project id\n",
    "df_housing = df_housing.withColumn(\"Price\", col(\"Price\").cast(\"int\"))\n",
    "df_housing.printSchema()\n"
   ]
  },
  {
   "cell_type": "markdown",
   "id": "e28c203f-70b9-47c9-a3cb-aae0bfa22234",
   "metadata": {},
   "source": [
    "## Take a random person from the dataset"
   ]
  },
  {
   "cell_type": "code",
   "execution_count": 4,
   "id": "b9b6dcd3-6b29-4831-993d-ba7907717c28",
   "metadata": {},
   "outputs": [
    {
     "name": "stdout",
     "output_type": "stream",
     "text": [
      "+---+---------+------------------+------------------------+\n",
      "| ID|spouse_ID|max_to_spend_month|possible_mortgage_amount|\n",
      "+---+---------+------------------+------------------------+\n",
      "|678|      678|              1120|                  222754|\n",
      "+---+---------+------------------+------------------------+\n",
      "\n"
     ]
    }
   ],
   "source": [
    "from pyspark.sql.functions import col, udf, window\n",
    "from random import randint\n",
    "\n",
    "def select_person_id():\n",
    "    chosen_ID = randint(1, df_mortgage.count())\n",
    "    return chosen_ID\n",
    "\n",
    "selected_df = df_mortgage.filter( col(\"ID\") == select_person_id())\n",
    "selected_df.show()"
   ]
  },
  {
   "cell_type": "markdown",
   "id": "536f8e5f-d3c3-4b0a-9c0a-9a3033c46f9e",
   "metadata": {},
   "source": [
    "## Take all the houses that that have a lower price than the possible mortage amount and are available"
   ]
  },
  {
   "cell_type": "code",
   "execution_count": 5,
   "id": "8f0e214b-8928-419c-8d79-c239595d8910",
   "metadata": {},
   "outputs": [
    {
     "name": "stdout",
     "output_type": "stream",
     "text": [
      "+--------------------+-------------+------+------------+--------------------+\n",
      "|             Address|         City| Price|Availability|          event_time|\n",
      "+--------------------+-------------+------+------------+--------------------+\n",
      "|     Diepvoorde 3015|      Wijchen|219000|        true|2023-12-04T14:53:...|\n",
      "|      Olieslagweg 96|     Enschede|219000|        true|2023-12-04T18:10:...|\n",
      "|Victor de Stuersl...|       Arnhem|219000|        true|2023-12-04T20:07:...|\n",
      "|Henri Dunantstraat 9| Oost-Souburg|219000|        true|2023-12-04T15:56:...|\n",
      "|   Bernadettelaan 46|    Landgraaf|219000|        true|2023-12-04T13:56:...|\n",
      "|          Oostweg 65| Krabbendijke|217500|        true|2023-12-04T18:14:...|\n",
      "|   Anjelierstraat 19|   Leeuwarden|217500|        true|2023-12-04T13:37:...|\n",
      "|       Bosjeslaan 20|   Vlissingen|217500|        true|2023-12-04T14:09:...|\n",
      "|Krelis Annesstraa...|Oudebildtzijl|217500|        true|2023-12-04T17:06:...|\n",
      "|Jan Oldenburgerst...|Nieuwe Pekela|215000|        true|2023-12-04T16:27:...|\n",
      "+--------------------+-------------+------+------------+--------------------+\n",
      "only showing top 10 rows\n",
      "\n"
     ]
    }
   ],
   "source": [
    "available_houses_chosen_individual = df_housing.filter(col(\"Price\") < selected_df.first()\\\n",
    "                                                       .asDict()[\"possible_mortgage_amount\"])\\\n",
    "                                                        .filter(col(\"Availability\") == True)\n",
    "\n",
    "available_houses = available_houses_chosen_individual.select('Address','City','Price','Availability',\"event_time\").orderBy(col(\"Price\").desc())\n",
    "available_houses.show(10)\n"
   ]
  },
  {
   "cell_type": "code",
   "execution_count": 6,
   "id": "1f6ace15-b2b3-4284-92ab-1e21283eac2b",
   "metadata": {
    "scrolled": true
   },
   "outputs": [
    {
     "data": {
      "text/plain": [
       "77"
      ]
     },
     "execution_count": 6,
     "metadata": {},
     "output_type": "execute_result"
    }
   ],
   "source": [
    "selected_houses = spark.createDataFrame(available_houses.take(500))\n",
    "selected_houses.count()\n",
    "selected_houses.distinct().count()"
   ]
  },
  {
   "cell_type": "markdown",
   "id": "985572f1-e1d8-4731-a4c6-a769f2b6ecaf",
   "metadata": {},
   "source": [
    "## Create the selected houses notebook"
   ]
  },
  {
   "cell_type": "code",
   "execution_count": 7,
   "id": "430bf5ff-7b3e-47e9-9425-c2b51cb2bfbc",
   "metadata": {
    "jp-MarkdownHeadingCollapsed": true
   },
   "outputs": [
    {
     "data": {
      "text/plain": [
       "Table(TableReference(DatasetReference('degroup11', 'group11dataset'), 'available_houses_for_individual'))"
      ]
     },
     "execution_count": 7,
     "metadata": {},
     "output_type": "execute_result"
    }
   ],
   "source": [
    "# Initialize the BigQuery client\n",
    "client = bigquery.Client(project=\"degroup11\")  \n",
    "\n",
    "# Define the table schema\n",
    "schema = [\n",
    "    bigquery.SchemaField(\"Address\", \"STRING\"),\n",
    "    bigquery.SchemaField(\"City\", \"STRING\"),\n",
    "    bigquery.SchemaField(\"Price\", \"STRING\"),\n",
    "    bigquery.SchemaField(\"Availability\", \"BOOLEAN\"),\n",
    "    bigquery.SchemaField(\"event_time\", \"TIMESTAMP\"),\n",
    "\n",
    "]\n",
    "\n",
    "# Specify the BigQuery dataset and table\n",
    "dataset_id = \"group11dataset\"  \n",
    "table_id = \"available_houses_for_individual\"   \n",
    "\n",
    "# Create the BigQuery table\n",
    "table_ref = client.dataset(dataset_id).table(table_id)\n",
    "table = bigquery.Table(table_ref, schema=schema)\n",
    "\n",
    "# Create the table if it doesn't exist\n",
    "client.create_table(table, exists_ok=True)"
   ]
  },
  {
   "cell_type": "markdown",
   "id": "b75064af-5fdb-4a1a-99fa-247b1e9c630a",
   "metadata": {},
   "source": [
    "## write Dataframe houses available for individual to bigquery"
   ]
  },
  {
   "cell_type": "code",
   "execution_count": 8,
   "id": "787e8d9d-2761-4b4f-8c5f-4bfc0c9cf994",
   "metadata": {},
   "outputs": [],
   "source": [
    "selected_houses.write.format(\"bigquery\").\\\n",
    "option('table', \"degroup11.group11dataset.available_houses_for_individual\").\\\n",
    "option(\"temporaryGcsBucket\", \"temp_degroup11\"). \\\n",
    "mode(\"overwrite\").save()"
   ]
  },
  {
   "cell_type": "markdown",
   "id": "6a244db9-19b1-4d96-9100-3702c15ef003",
   "metadata": {},
   "source": [
    "## Create the identifying table "
   ]
  },
  {
   "cell_type": "code",
   "execution_count": 21,
   "id": "54f3a676-b36f-4cba-a259-d92aa269697b",
   "metadata": {},
   "outputs": [
    {
     "data": {
      "text/plain": [
       "Table(TableReference(DatasetReference('degroup11', 'group11dataset'), 'cookie_ID_houses'))"
      ]
     },
     "execution_count": 21,
     "metadata": {},
     "output_type": "execute_result"
    }
   ],
   "source": [
    "# Initialize the BigQuery client\n",
    "client = bigquery.Client(project=\"degroup11\")  \n",
    "\n",
    "# Define the table schema\n",
    "schema = [\n",
    "    bigquery.SchemaField(\"ID\", \"STRING\"),\n",
    "    bigquery.SchemaField(\"spouse_ID\", \"STRING\"),\n",
    "    bigquery.SchemaField(\"max_to_spend_month\", \"INTEGER\"),\n",
    "    bigquery.SchemaField(\"possible_mortgage_amount\", \"INTEGER\"),\n",
    "\n",
    "]\n",
    "\n",
    "# Specify the BigQuery dataset and table\n",
    "dataset_id = \"group11dataset\"  \n",
    "table_id = \"cookie_ID_houses\"   \n",
    "\n",
    "# Create the BigQuery table\n",
    "table_ref = client.dataset(dataset_id).table(table_id)\n",
    "table = bigquery.Table(table_ref, schema=schema)\n",
    "\n",
    "# Create the table if it doesn't exist\n",
    "client.create_table(table, exists_ok=True)"
   ]
  },
  {
   "cell_type": "markdown",
   "id": "e7d863f5-cd04-4199-b0e2-8b82a6ff8d67",
   "metadata": {},
   "source": [
    "## Write dataframe cookie to bigquery"
   ]
  },
  {
   "cell_type": "code",
   "execution_count": 22,
   "id": "6a5bf32f-105a-4db8-a802-6b33fc2f2ca6",
   "metadata": {},
   "outputs": [],
   "source": [
    "selected_df.write.format(\"bigquery\").\\\n",
    "option('table', \"degroup11.group11dataset.cookie_ID_houses\").\\\n",
    "option(\"temporaryGcsBucket\", \"temp_degroup11\"). \\\n",
    "mode(\"overwrite\").save()"
   ]
  }
 ],
 "metadata": {
  "kernelspec": {
   "display_name": "Python 3 (ipykernel)",
   "language": "python",
   "name": "python3"
  },
  "language_info": {
   "codemirror_mode": {
    "name": "ipython",
    "version": 3
   },
   "file_extension": ".py",
   "mimetype": "text/x-python",
   "name": "python",
   "nbconvert_exporter": "python",
   "pygments_lexer": "ipython3",
   "version": "3.11.6"
  }
 },
 "nbformat": 4,
 "nbformat_minor": 5
}
