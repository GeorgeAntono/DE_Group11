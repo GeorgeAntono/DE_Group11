{
 "cells": [
  {
   "cell_type": "code",
   "execution_count": null,
   "id": "initial_id",
   "metadata": {
    "collapsed": true
   },
   "outputs": [],
   "source": [
    "from pyspark import SparkConf\n",
    "from pyspark.sql import SparkSession\n",
    "from pyspark.sql.functions import window, col, avg, concat, lit, from_json\n",
    "from pyspark.sql.types import StructType, StructField, LongType, StringType, IntegerType, BooleanType\n",
    "from time import sleep\n",
    "\n",
    "sparkConf = SparkConf()\n",
    "sparkConf.setMaster(\"spark://spark-master:7077\")\n",
    "sparkConf.setAppName(\"Lab9_Ex3\")\n",
    "sparkConf.set(\"spark.driver.memory\", \"2g\")\n",
    "sparkConf.set(\"spark.executor.cores\", \"1\")\n",
    "sparkConf.set(\"spark.driver.cores\", \"1\")\n",
    "\n",
    "# create the spark session, which is the entry point to Spark SQL engine.\n",
    "spark = SparkSession.builder.config(conf=sparkConf).getOrCreate()\n",
    "\n",
    "dataSchema = StructType([\n",
    "    StructField(\"Address\", StringType(), True),\n",
    "    StructField(\"City\", StringType(), True),\n",
    "    StructField(\"Price\", IntegerType(), True),\n",
    "    StructField(\"Lot_size\", StringType(), True),\n",
    "    StructField(\"Living_space_size\", StringType(), True),\n",
    "    StructField(\"Build_year\", StringType(), True),\n",
    "    StructField(\"Build_type\", StringType(), True),\n",
    "    StructField(\"House_type\", StringType(), True),\n",
    "    StructField(\"Roof\", StringType(), True),\n",
    "    StructField(\"Rooms\", StringType(), True),\n",
    "    StructField(\"Toilet\", StringType(), True),\n",
    "    StructField(\"Floors\", StringType(), True),\n",
    "    StructField(\"Energy_label\", StringType(), True),\n",
    "    StructField(\"Position\", StringType(), True),\n",
    "    StructField(\"Garden\", StringType(), True),\n",
    "    StructField(\"Estimated_neighbourhood_price_per\", StringType(), True),\n",
    "    StructField(\"Availability\", BooleanType(), True),\n",
    "])\n",
    "\n",
    "\n",
    "# Read the whole dataset as a batch\n",
    "kafkaStream = spark \\\n",
    "    .readStream \\\n",
    "    .format(\"kafka\") \\\n",
    "    .option(\"kafka.bootstrap.servers\", \"kafka1:9093\") \\\n",
    "    .option(\"failOnDataLoss\", \"false\") \\\n",
    "    .option(\"subscribe\", \"mock\") \\\n",
    "    .option(\"startingOffsets\", \"latest\") \\\n",
    "    .load()\n",
    "\n",
    "df = kafkaStream.selectExpr(\"CAST(value AS STRING)\")\n",
    "\n",
    "df1 = df.select(from_json(df.value, dataSchema.simpleString()))\n",
    "\n",
    "df1.printSchema()\n",
    "\n",
    "sdf = df1.select(col(\"from_json(value).*\"))\n",
    "\n",
    "sdf.printSchema()\n",
    "\n",
    "avgpricedf = sdf.groupBy( \"Address\", \"City\") \\\n",
    "    .agg(avg(\"Price\").alias(\"value\"))\n",
    "\n",
    "resultdf = avgpricedf.select(concat(col(\"Address\"), lit(\" \"), col(\"City\")).alias(\"key\"), col(\"value\"))\n",
    "\n",
    "resultdf.printSchema()\n",
    "\n",
    "query = resultdf \\\n",
    "    .writeStream \\\n",
    "    .format(\"kafka\") \\\n",
    "    .option(\"kafka.bootstrap.servers\", \"kafka1:9093\") \\\n",
    "    .option(\"checkpointLocation\", \"/home/jovyan/checkpoint/gamescore\") \\\n",
    "    .option(\"topic\", \"mock_2\") \\\n",
    "    .outputMode(\"complete\") \\\n",
    "    .start()\n",
    "try:\n",
    "    query.awaitTermination()\n",
    "except KeyboardInterrupt:\n",
    "    query.stop()\n",
    "    # Stop the spark context\n",
    "    spark.stop()\n",
    "    print(\"Stoped the streaming query and the spark context\")"
   ]
  },
  {
   "cell_type": "code",
   "execution_count": null,
   "outputs": [],
   "source": [
    "spark.stop()"
   ],
   "metadata": {
    "collapsed": false
   },
   "id": "333f10dae80cdf3e"
  }
 ],
 "metadata": {
  "kernelspec": {
   "display_name": "Python 3",
   "language": "python",
   "name": "python3"
  },
  "language_info": {
   "codemirror_mode": {
    "name": "ipython",
    "version": 2
   },
   "file_extension": ".py",
   "mimetype": "text/x-python",
   "name": "python",
   "nbconvert_exporter": "python",
   "pygments_lexer": "ipython2",
   "version": "2.7.6"
  }
 },
 "nbformat": 4,
 "nbformat_minor": 5
}
