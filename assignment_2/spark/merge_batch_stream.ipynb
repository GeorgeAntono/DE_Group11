{
 "cells": [
  {
   "cell_type": "code",
   "execution_count": 2,
   "id": "a07dcee3-b9e9-4a5c-a625-ffceadac2c09",
   "metadata": {},
   "outputs": [],
   "source": [
    "import sys\n",
    "!{sys.executable} -m pip install -q --upgrade pip\n",
    "!{sys.executable} -m pip install -q google-cloud-bigquery"
   ]
  },
  {
   "cell_type": "markdown",
   "id": "a7308d6e-87ae-4e6e-8a96-89f0cb81d449",
   "metadata": {},
   "source": [
    "## Merge the kafka dataset of the right individual with their available houses and outputs into a final bigquery dataset"
   ]
  },
  {
   "cell_type": "code",
   "execution_count": 14,
   "id": "be57c3ea-7a48-498b-b98f-28264d84c057",
   "metadata": {},
   "outputs": [
    {
     "name": "stdout",
     "output_type": "stream",
     "text": [
      "414389\n",
      "root\n",
      " |-- Address: string (nullable = true)\n",
      " |-- City: string (nullable = true)\n",
      " |-- Price: long (nullable = true)\n",
      " |-- Availability: boolean (nullable = true)\n",
      " |-- event_time: timestamp (nullable = true)\n",
      "\n",
      "root\n",
      " |-- Address: string (nullable = true)\n",
      " |-- City: string (nullable = true)\n",
      " |-- Price: long (nullable = true)\n",
      " |-- Availability: boolean (nullable = true)\n",
      " |-- event_time: timestamp (nullable = true)\n",
      "\n",
      "+--------------------+---------------+------+------------+--------------------+\n",
      "|             Address|           City| Price|Availability|          event_time|\n",
      "+--------------------+---------------+------+------------+--------------------+\n",
      "|         Papesteeg 6|           Tiel|410000|        true|2023-12-01 03:20:...|\n",
      "|          Stedehof 3|          Assen|410000|        true|2023-12-01 03:18:...|\n",
      "|    Waterkerslaan 16|Oosterhout (NB)|410000|        true|2023-11-30 22:06:...|\n",
      "|Willem van Velsen...|      Heemskerk|410000|        true|2023-11-30 22:12:...|\n",
      "|Johan Willem Fris...|     Zoetermeer|409000|        true|2023-12-01 00:53:...|\n",
      "|          Waterput 8|          Cuijk|409000|        true|2023-11-30 22:50:...|\n",
      "|      Ringiastins 15|     Leeuwarden|406000|        true|2023-11-30 22:30:...|\n",
      "|Aletta Jacobsstra...|     Assendelft|405000|        true|2023-11-30 23:55:...|\n",
      "|             Giek 22|         Huizen|405000|        true|2023-11-30 22:02:...|\n",
      "|         Bachlaan 12|    Voorthuizen|400000|        true|2023-11-30 23:55:...|\n",
      "|Aletta Jacobsstra...|     Assendelft|400000|        true|2023-11-30 22:43:...|\n",
      "|       Belcampohof 5|         Almere|400000|        true|2023-12-01 00:39:...|\n",
      "|     Berkelstraat 18|     Amersfoort|400000|        true|2023-11-30 22:35:...|\n",
      "|    Czarinastraat 24|        Zaandam|400000|        true|2023-12-01 01:20:...|\n",
      "|         De Brink 44|         Heiloo|400000|        true|2023-11-30 22:13:...|\n",
      "|      Boekenstein 54|         Heiloo|400000|        true|2023-12-01 02:31:...|\n",
      "|     Bolstraschans 8|     Zoetermeer|400000|        true|2023-12-01 03:19:...|\n",
      "|      Burchtenlaan 7|      Den Bosch|400000|        true|2023-11-30 22:23:...|\n",
      "|Helena Merciertui...|  Heerhugowaard|400000|        true|2023-11-30 21:07:...|\n",
      "|       De Velden 218|       Schiedam|400000|        true|2023-12-01 00:05:...|\n",
      "+--------------------+---------------+------+------------+--------------------+\n",
      "only showing top 20 rows\n",
      "\n"
     ]
    }
   ],
   "source": [
    "from pyspark.sql import SparkSession\n",
    "from pyspark import SparkConf\n",
    "\n",
    "sparkConf = SparkConf()\n",
    "sparkConf.setMaster(\"spark://spark-master:7077\")\n",
    "sparkConf.setAppName(\"BigqueryExample\")\n",
    "sparkConf.set(\"spark.driver.memory\", \"2g\")\n",
    "sparkConf.set(\"spark.executor.cores\", \"1\")\n",
    "sparkConf.set(\"spark.driver.cores\", \"1\")\n",
    "# create the spark session, which is the entry point to Spark SQL engine.\n",
    "spark = SparkSession.builder.config(conf=sparkConf).getOrCreate()\n",
    "# Setup hadoop fs configuration for schema gs://\n",
    "conf = spark.sparkContext._jsc.hadoopConfiguration()\n",
    "conf.set(\"fs.gs.impl\", \"com.google.cloud.hadoop.fs.gcs.GoogleHadoopFileSystem\")\n",
    "conf.set(\"fs.AbstractFileSystem.gs.impl\", \"com.google.cloud.hadoop.fs.gcs.GoogleHadoopFS\")\n",
    "\n",
    "#Loading the Cookie\n",
    "cookie_id_df = spark.read \\\n",
    "      .format(\"bigquery\") \\\n",
    "      .load(\" degroup11.group11dataset.cookie_ID_houses\")\n",
    "\n",
    "#Getting the mortgage threshold\n",
    "price_threshold = cookie_id_df.first()[\"possible_mortgage_amount\"]\n",
    "print(price_threshold)\n",
    "\n",
    "# Load data from BigQuery.\n",
    "df_kafka = spark.read \\\n",
    "  .format(\"bigquery\") \\\n",
    "  .load(\" degroup11.group11dataset.house_pricing_kafka\")    \n",
    "\n",
    "df_kafka=df_kafka.drop(\"window\")\n",
    "df_kafka.printSchema()\n",
    "\n",
    "df_batch = spark.read \\\n",
    "  .format(\"bigquery\") \\\n",
    "  .load(\" degroup11.group11dataset.available_houses_for_individual\")  \n",
    "df_batch.printSchema()\n",
    "\n",
    "df_combined = df_batch.union(df_kafka)\n",
    "\n",
    "df_combined=df_combined.dropDuplicates([\"Address\", \"Price\"])\n",
    "\n",
    "df_combined = df_combined.orderBy(\"Price\", ascending=False)\n",
    "df_combined.show()\n",
    "\n",
    "df_combined.write.format(\"bigquery\").\\\n",
    "option('table', \"degroup11.group11dataset.top_10_houses\").\\\n",
    "option(\"temporaryGcsBucket\", \"temp_degroup11\"). \\\n",
    "mode(\"overwrite\").save()"
   ]
  },
  {
   "cell_type": "code",
   "execution_count": 12,
   "id": "a7b47bb1-291f-4ec1-b9be-1f4863e0a72d",
   "metadata": {},
   "outputs": [],
   "source": [
    "from google.cloud import bigquery\n",
    "\n",
    "#Initialize the BigQuery client\n",
    "client = bigquery.Client(project=\"degroup11\")\n",
    "\n",
    "#Delete temporary kafka table\n",
    "client.delete_table(\"degroup11.group11dataset.house_pricing_kafka\", not_found_ok=True)\n",
    "\n",
    "#Delete temporary batch table\n",
    "client.delete_table(\"degroup11.group11dataset.available_houses_for_individual\", not_found_ok=True)\n",
    "\n",
    "#Delete cookie as session is over\n",
    "client.delete_table(\"degroup11.group11dataset.cookie_ID_houses\", not_found_ok=True)"
   ]
  },
  {
   "cell_type": "code",
   "execution_count": null,
   "id": "166fb031-30a9-4585-a3e7-fac413574e79",
   "metadata": {},
   "outputs": [],
   "source": []
  }
 ],
 "metadata": {
  "kernelspec": {
   "display_name": "Python 3 (ipykernel)",
   "language": "python",
   "name": "python3"
  },
  "language_info": {
   "codemirror_mode": {
    "name": "ipython",
    "version": 3
   },
   "file_extension": ".py",
   "mimetype": "text/x-python",
   "name": "python",
   "nbconvert_exporter": "python",
   "pygments_lexer": "ipython3",
   "version": "3.11.6"
  }
 },
 "nbformat": 4,
 "nbformat_minor": 5
}
