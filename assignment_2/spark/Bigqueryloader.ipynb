{
 "cells": [
  {
   "cell_type": "code",
   "execution_count": null,
   "id": "initial_id",
   "metadata": {
    "collapsed": true
   },
   "outputs": [],
   "source": [
    "import sys\n",
    "!{sys.executable} -m pip install google-cloud-bigquery"
   ]
  },
  {
   "cell_type": "code",
   "execution_count": null,
   "outputs": [],
   "source": [
    "from google.cloud import bigquery\n",
    "\n",
    "# upload to BigQuery\n",
    "client = bigquery.Client(project=\"degroup11\")   # use your project id\n",
    "\n",
    "table_ref = client.dataset(\"group11dataset\").table(\"individuals\")  # use the correct dataset name and table name\n",
    "table_ref_2 = client.dataset(\"group11dataset\").table(\"spouse\") \n",
    "table_ref_3 = client.dataset(\"group11dataset\").table(\"house_pricing\")\n",
    "\n",
    "job_config = bigquery.LoadJobConfig()\n",
    "job_config.source_format = bigquery.SourceFormat.CSV\n",
    "job_config.skip_leading_rows = 1  # ignore the header\n",
    "job_config.autodetect = True\n",
    "job_config.write_disposition = bigquery.WriteDisposition.WRITE_TRUNCATE  # Overwrite the existing table\n",
    "\n",
    "with open(\"/home/jovyan/data/individuals_updated2.csv_part-00000-0c97f151-a94a-4663-a400-32d2cfa9db6f-c000.csv\", \"rb\") as source_file:\n",
    "    job = client.load_table_from_file(\n",
    "        source_file, table_ref, job_config=job_config\n",
    "    )\n",
    "    \n",
    "with open(\"/home/jovyan/data/spouse_updated2.csv_part-00000-8a0a27f2-2e36-40e4-afde-d88d479dfcdc-c000.csv\", \"rb\") as source_file:\n",
    "    job = client.load_table_from_file(\n",
    "        source_file, table_ref_2, job_config=job_config\n",
    "    )\n",
    "\n",
    "with open(\"/home/jovyan/data/house_pricing_updated2.csv_part-00000-c8a8a853-47a5-4e0e-bfcf-a3be3c6748b1-c000.csv\", \"rb\") as source_file:\n",
    "    job = client.load_table_from_file(\n",
    "        source_file, table_ref_3, job_config=job_config\n",
    "    )\n",
    "\n",
    "# job is a sync operation so we have to wait for it to finish\n",
    "job.result() \n"
   ],
   "metadata": {
    "collapsed": false
   },
   "id": "7a54df6ae95a103b"
  },
  {
   "cell_type": "code",
   "execution_count": null,
   "outputs": [],
   "source": [
    "# Perform a query.\n",
    "QUERY = (\n",
    "    'SELECT * FROM `degroup11.group11dataset.individuals` LIMIT 100')   # use the correct project id, etc.\n",
    "query_job = client.query(QUERY)  # API request\n",
    "rows = query_job.result()  # Waits for query to finish\n",
    "\n",
    "for row in rows:\n",
    "    print(row)"
   ],
   "metadata": {
    "collapsed": false
   },
   "id": "1920fdb982662785"
  },
  {
   "cell_type": "code",
   "execution_count": null,
   "outputs": [],
   "source": [
    "spark.stop()"
   ],
   "metadata": {
    "collapsed": false
   },
   "id": "333862ee715d1ce2"
  }
 ],
 "metadata": {
  "kernelspec": {
   "display_name": "Python 3",
   "language": "python",
   "name": "python3"
  },
  "language_info": {
   "codemirror_mode": {
    "name": "ipython",
    "version": 2
   },
   "file_extension": ".py",
   "mimetype": "text/x-python",
   "name": "python",
   "nbconvert_exporter": "python",
   "pygments_lexer": "ipython2",
   "version": "2.7.6"
  }
 },
 "nbformat": 4,
 "nbformat_minor": 5
}
