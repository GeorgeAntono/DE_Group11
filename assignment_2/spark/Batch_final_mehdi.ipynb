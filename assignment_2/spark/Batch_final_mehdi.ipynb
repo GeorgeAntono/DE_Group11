{
 "cells": [
  {
   "cell_type": "markdown",
   "id": "ecdbea02-933c-4543-80b3-864891f4ecba",
   "metadata": {},
   "source": [
    "## Create new bigquery table with the individual's mortage that they can afford"
   ]
  },
  {
   "cell_type": "code",
   "execution_count": 1,
   "id": "4b9c8397-b499-48f6-a611-69cd68cc5404",
   "metadata": {},
   "outputs": [],
   "source": [
    "from pyspark.sql import SparkSession\n",
    "from pyspark import SparkConf\n",
    "\n",
    "sparkConf = SparkConf()\n",
    "sparkConf.setMaster(\"spark://spark-master:7077\")\n",
    "sparkConf.setAppName(\"BigqueryExample\")\n",
    "sparkConf.set(\"spark.driver.memory\", \"2g\")\n",
    "sparkConf.set(\"spark.executor.cores\", \"1\")\n",
    "sparkConf.set(\"spark.driver.cores\", \"1\")\n",
    "# create the spark session, which is the entry point to Spark SQL engine.\n",
    "spark = SparkSession.builder.config(conf=sparkConf).getOrCreate()\n",
    "# Setup hadoop fs configuration for schema gs://\n",
    "conf = spark.sparkContext._jsc.hadoopConfiguration()\n",
    "conf.set(\"fs.gs.impl\", \"com.google.cloud.hadoop.fs.gcs.GoogleHadoopFileSystem\")\n",
    "conf.set(\"fs.AbstractFileSystem.gs.impl\", \"com.google.cloud.hadoop.fs.gcs.GoogleHadoopFS\")\n"
   ]
  },
  {
   "cell_type": "code",
   "execution_count": 2,
   "id": "846bddff-05ee-4b20-b9c7-bc56043c2f71",
   "metadata": {},
   "outputs": [
    {
     "name": "stdout",
     "output_type": "stream",
     "text": [
      "root\n",
      " |-- ID: string (nullable = true)\n",
      " |-- age: string (nullable = true)\n",
      " |-- has_spouse: string (nullable = true)\n",
      " |-- spouse_ID: string (nullable = true)\n",
      " |-- gross_salary: string (nullable = true)\n",
      " |-- has_student_loan: string (nullable = true)\n",
      " |-- student_loan_amount: string (nullable = true)\n",
      " |-- has_general_loan: string (nullable = true)\n",
      " |-- general_loan_amount: string (nullable = true)\n",
      " |-- has_alimony: string (nullable = true)\n",
      " |-- alimony_amount: string (nullable = true)\n",
      "\n"
     ]
    }
   ],
   "source": [
    "df_individuals = spark.read \\\n",
    "  .format(\"bigquery\") \\\n",
    "  .load(\" degroup11.group11dataset.individuals\")    # project_id.datatset.tablename. Use your project id\n",
    "df_individuals.printSchema()"
   ]
  },
  {
   "cell_type": "markdown",
   "id": "5d7ddd96-7060-43c3-91e5-6b5b7226664c",
   "metadata": {},
   "source": [
    "## Table lookout"
   ]
  },
  {
   "cell_type": "code",
   "execution_count": 3,
   "id": "88f6e66a-068c-4c48-9ba7-7f35a679d7dc",
   "metadata": {},
   "outputs": [
    {
     "name": "stdout",
     "output_type": "stream",
     "text": [
      "root\n",
      " |-- spouse_ID: string (nullable = true)\n",
      " |-- age: string (nullable = true)\n",
      " |-- gross_salary: string (nullable = true)\n",
      " |-- has_student_loan: string (nullable = true)\n",
      " |-- student_loan_amount: string (nullable = true)\n",
      " |-- has_general_loan: string (nullable = true)\n",
      " |-- general_loan_amount: string (nullable = true)\n",
      " |-- has_alimony: string (nullable = true)\n",
      " |-- alimony_amount: string (nullable = true)\n",
      "\n"
     ]
    }
   ],
   "source": [
    "df_spouse = spark.read \\\n",
    "  .format(\"bigquery\") \\\n",
    "  .load(\" degroup11.group11dataset.spouse\")   \n",
    "df_spouse.printSchema()"
   ]
  },
  {
   "cell_type": "code",
   "execution_count": 4,
   "id": "b3be8232-467c-486e-b459-9ef55cd84a98",
   "metadata": {
    "scrolled": true
   },
   "outputs": [
    {
     "name": "stdout",
     "output_type": "stream",
     "text": [
      "+------------+----------+\n",
      "|Toetsinkomen|Toetsrente|\n",
      "+------------+----------+\n",
      "|           0|      17.5|\n",
      "|       19500|      17.5|\n",
      "|       20000|      18.5|\n",
      "|       20050|      19.5|\n",
      "|       21000|      20.5|\n",
      "|       21500|      21.0|\n",
      "|       22000|      22.0|\n",
      "|       22500|      23.5|\n",
      "|       23000|      24.5|\n",
      "|       23500|      25.0|\n",
      "|       24000|      25.5|\n",
      "|       25000|      26.5|\n",
      "|       26000|      27.0|\n",
      "|       28000|      27.5|\n",
      "|       55000|      28.0|\n",
      "|       58000|      28.5|\n",
      "|       61000|      29.0|\n",
      "|       63000|      29.5|\n",
      "|       65000|      30.0|\n",
      "|       68000|      30.5|\n",
      "|       70000|      31.0|\n",
      "|       75000|      31.5|\n",
      "|       77000|      32.5|\n",
      "|       79000|      33.0|\n",
      "|       85000|      33.5|\n",
      "|       96000|      34.0|\n",
      "|      110000|      34.5|\n",
      "+------------+----------+\n",
      "\n"
     ]
    }
   ],
   "source": [
    "df_toetsinkomen = spark.read \\\n",
    "  .format(\"bigquery\") \\\n",
    "  .load(\" degroup11.group11dataset.toetsinkomen\")   \n",
    "df_toetsinkomen.show(100)"
   ]
  },
  {
   "cell_type": "code",
   "execution_count": 5,
   "id": "a000fb54-77a2-4770-932f-165799761d16",
   "metadata": {},
   "outputs": [],
   "source": [
    "from pyspark.sql.functions import col, when\n",
    "\n",
    "\n",
    "df_comb = df_individuals.alias(\"ind\").join(df_spouse.alias(\"sp\"), col(\"ind.ID\") ==  col(\"sp.spouse_ID\"),\"inner\")"
   ]
  },
  {
   "cell_type": "markdown",
   "id": "675cab69-2035-406e-9ef8-c173ce011372",
   "metadata": {},
   "source": [
    "## Create house spendable income and select important columns from dataframe"
   ]
  },
  {
   "cell_type": "code",
   "execution_count": 6,
   "id": "189ea9e2-e351-442f-93b2-1195be4b48d8",
   "metadata": {
    "scrolled": true
   },
   "outputs": [
    {
     "name": "stdout",
     "output_type": "stream",
     "text": [
      "+---+------------+--------------+----------+-------------------+-------------------+---------+------------+--------------+-------------------+-------------------+----------------------+\n",
      "| ID|gross_salary|alimony_amount|has_spouse|student_loan_amount|general_loan_amount|spouse_ID|gross_salary|alimony_amount|student_loan_amount|general_loan_amount|house_spendable_income|\n",
      "+---+------------+--------------+----------+-------------------+-------------------+---------+------------+--------------+-------------------+-------------------+----------------------+\n",
      "|106|       75526|             0|      true|                  0|               9288|      106|       59122|             0|              58463|               1144|                 95233|\n",
      "|153|      134600|          1200|     false|                  0|               5314|      153|      101412|             0|              69057|                  0|                120200|\n",
      "|211|      144798|             0|      true|              26010|               1815|      211|      149733|             0|              51474|                  0|                197999|\n",
      "|354|      150580|             0|      true|              52758|               8222|      354|       47582|             0|                  0|                  0|                 97775|\n",
      "|363|      186763|             0|     false|                  0|               1552|      363|      181201|             0|              36635|               8217|                186763|\n",
      "|469|       59116|             0|      true|                  0|               7749|      469|       38986|             0|                  0|               6146|                 72111|\n",
      "|520|      189883|          3697|      true|              38459|               8634|      520|      143379|             0|                  0|               1788|                193312|\n",
      "|539|      157499|             0|      true|              66932|               8292|      539|       65001|             0|                  0|               7422|                117500|\n",
      "|594|      171667|          1858|      true|                  0|               6562|      594|      136836|             0|                  0|                  0|                194983|\n",
      "|  9|      168304|             0|     false|                  0|               3907|        9|       60684|             0|              48767|                  0|                168304|\n",
      "| 30|       75892|             0|      true|                  0|               7655|       30|       88871|             0|                  0|               1458|                114168|\n",
      "|267|      160809|          2390|      true|              64538|               4375|      267|       80447|             0|                  0|                  0|                124490|\n",
      "|306|       97033|             0|     false|                  0|               3250|      306|      109320|             0|                  0|                  0|                 97033|\n",
      "|374|       94589|             0|      true|                  0|               3270|      374|      108912|             0|              61874|                  0|                130893|\n",
      "|562|       49877|             0|     false|               9288|               5097|      562|       61783|             0|                  0|                  0|                 49877|\n",
      "|638|      106209|             0|     false|                  0|                590|      638|       26954|             0|              46733|               6073|                106209|\n",
      "|758|       77328|             0|      true|              63964|               4528|      758|      181158|             0|                131|                  0|                137714|\n",
      "|828|      195138|             0|      true|                  0|               6545|      828|       50156|             0|              43915|               5525|                115202|\n",
      "|836|       47206|             0|     false|                  0|               8839|      836|       43192|             0|              57248|                  0|                 47206|\n",
      "|887|      102180|             0|     false|               8230|               1276|      887|      174920|             0|                  0|                  0|                102180|\n",
      "+---+------------+--------------+----------+-------------------+-------------------+---------+------------+--------------+-------------------+-------------------+----------------------+\n",
      "only showing top 20 rows\n",
      "\n"
     ]
    }
   ],
   "source": [
    "df = df_comb\n",
    "# Convert necessary columns to appropriate data types (e.g., from string to integer/boolean)\n",
    "df = df.withColumn(\"ind.gross_salary\", col(\"ind.gross_salary\").cast(\"int\"))\n",
    "df = df.withColumn(\"ind.alimony_amount\", col(\"ind.alimony_amount\").cast(\"int\"))\n",
    "df = df.withColumn(\"ind.has_spouse\", col(\"ind.has_spouse\") == \"True\")\n",
    "df = df.withColumn(\"ind.student_loan_amount\", col(\"ind.student_loan_amount\").cast(\"int\"))\n",
    "df = df.withColumn(\"ind.general_loan_amount\", col(\"ind.general_loan_amount\").cast(\"int\"))\n",
    "\n",
    "df = df.withColumn(\"sp.gross_salary\", col(\"sp.gross_salary\").cast(\"int\"))\n",
    "df = df.withColumn(\"sp.alimony_amount\", col(\"sp.alimony_amount\").cast(\"int\"))\n",
    "df = df.withColumn(\"sp.student_loan_amount\", col(\"sp.student_loan_amount\").cast(\"int\"))\n",
    "df = df.withColumn(\"sp.general_loan_amount\", col(\"sp.general_loan_amount\").cast(\"int\"))\n",
    "\n",
    "\n",
    "df = df.withColumn(\"house_spendable_income\", \n",
    "                   when(col(\"ind.has_spouse\") == False, \n",
    "                        col(\"ind.gross_salary\") - 12 * col(\"ind.alimony_amount\"))\n",
    "                   .otherwise(when(col(\"ind.gross_salary\")>col(\"sp.gross_salary\"),col(\"ind.gross_salary\") - 12 * col(\"ind.alimony_amount\")+ 1/3 * (col(\"sp.gross_salary\")-12 * col(\"sp.alimony_amount\")))\\\n",
    "                             .otherwise(col(\"sp.gross_salary\") - 12 * col(\"sp.alimony_amount\")+ 1/3 * (col(\"ind.gross_salary\")-12 * col(\"ind.alimony_amount\")))))\n",
    "\n",
    "\n",
    "\n",
    "df = df.withColumn(\"house_spendable_income\", col(\"house_spendable_income\").cast(\"int\"))\n",
    "#df_comb.select(\"ind.student_loan_amount\", \"sp.student_loan_amount\").show()\n",
    "df.select(\"ind.ID\", \"ind.gross_salary\",\"ind.alimony_amount\",\"ind.has_spouse\",\"ind.student_loan_amount\", \"ind.general_loan_amount\", \"sp.spouse_ID\", \"sp.gross_salary\",\"sp.alimony_amount\", \"sp.student_loan_amount\", \"sp.general_loan_amount\", \"house_spendable_income\").show()\n",
    "\n"
   ]
  },
  {
   "cell_type": "markdown",
   "id": "a53a7848-895c-4b8b-ba06-8c1e1b9718c9",
   "metadata": {},
   "source": [
    "## Step 2 get for each row the corresponding toetsinkomen rente and add as column to df"
   ]
  },
  {
   "cell_type": "code",
   "execution_count": 7,
   "id": "5ec6b483-9de7-4bd3-b776-9771ce1b8a19",
   "metadata": {},
   "outputs": [
    {
     "name": "stdout",
     "output_type": "stream",
     "text": [
      "+---+---+----------------------+----------+\n",
      "| ID|age|house_spendable_income|toetsrente|\n",
      "+---+---+----------------------+----------+\n",
      "|106| 18|                 95233|      34.0|\n",
      "|153| 18|                120200|      34.5|\n",
      "|211| 18|                197999|      34.5|\n",
      "|354| 18|                 97775|      34.0|\n",
      "|363| 18|                186763|      34.5|\n",
      "|469| 18|                 72111|      31.0|\n",
      "|520| 18|                193312|      34.5|\n",
      "|539| 18|                117500|      34.5|\n",
      "|594| 18|                194983|      34.5|\n",
      "|  9| 19|                168304|      34.5|\n",
      "| 30| 19|                114168|      34.5|\n",
      "|267| 19|                124490|      34.5|\n",
      "|306| 19|                 97033|      34.0|\n",
      "|374| 19|                130893|      34.5|\n",
      "|562| 19|                 49877|      28.0|\n",
      "|638| 19|                106209|      34.5|\n",
      "|758| 19|                137714|      34.5|\n",
      "|828| 19|                115202|      34.5|\n",
      "|836| 19|                 47206|      28.0|\n",
      "|887| 19|                102180|      34.0|\n",
      "+---+---+----------------------+----------+\n",
      "only showing top 20 rows\n",
      "\n"
     ]
    }
   ],
   "source": [
    "from pyspark.sql.functions import col, udf\n",
    "from pyspark.sql.types import StringType\n",
    "\n",
    "def calculate_toetsrente(toetsinkomen_value):\n",
    "    # Hard-coded Toetsinkomen values\n",
    "    toetsinkomen_values = [0, 19500, 20000, 20050, 21000, 21500, 22000, 22500, 23000, 23500,\n",
    "                            24000, 25000, 26000, 28000, 55000, 58000, 61000, 63000, 65000, 68000,\n",
    "                            70000, 75000, 77000, 79000, 85000, 96000, 110000]\n",
    "    \n",
    "    # Find the closest Toetsinkomen value\n",
    "    closest_toetsinkomen = min(toetsinkomen_values, key=lambda x: abs(x - toetsinkomen_value))\n",
    "    \n",
    "    # Corresponding Toetsrente values\n",
    "    toetsrente_values = {0: 17.5, 19500: 17.5, 20000: 18.5, 20050: 19.5, 21000: 20.5,\n",
    "                         21500: 21.0, 22000: 22.0, 22500: 23.5, 23000: 24.5, 23500: 25.0,\n",
    "                         24000: 25.5, 25000: 26.5, 26000: 27.0, 28000: 27.5, 55000: 28.0,\n",
    "                         58000: 28.5, 61000: 29.0, 63000: 29.5, 65000: 30.0, 68000: 30.5,\n",
    "                         70000: 31.0, 75000: 31.5, 77000: 32.5, 79000: 33.0, 85000: 33.5,\n",
    "                         96000: 34.0, 110000: 34.5}\n",
    "    \n",
    "    # Get the Toetsrente value for the closest Toetsinkomen\n",
    "    toetsrente_value = toetsrente_values[closest_toetsinkomen]\n",
    "    \n",
    "    return toetsrente_value\n",
    "\n",
    "\n",
    "interestCalcUDF = udf(lambda x:calculate_toetsrente(x),StringType())\n",
    "\n",
    "\n",
    "df_income_w_interest = df.withColumn(\"toetsrente\", interestCalcUDF(col(\"house_spendable_income\")))\n",
    "df_income_w_interest.select(\"ID\", \"ind.age\", \"house_spendable_income\", \"toetsrente\").show()"
   ]
  },
  {
   "cell_type": "markdown",
   "id": "e894cb23-bdbe-4501-81dd-012762213230",
   "metadata": {},
   "source": [
    "## Reducution in monthly payments due to loans and student loans"
   ]
  },
  {
   "cell_type": "code",
   "execution_count": 8,
   "id": "318351c9-2bb3-486a-b857-237fcc43210f",
   "metadata": {},
   "outputs": [],
   "source": [
    "df_deduction_loan = df_income_w_interest.withColumn(\"deduction_loan_payment\",\n",
    "                                                    (col(\"ind.student_loan_amount\")*0.0075 + col(\"ind.general_loan_amount\") * 0.02)+ (col(\"sp.student_loan_amount\")*0.0075 + col(\"sp.general_loan_amount\") * 0.02))\n",
    "\n",
    "\n",
    "\n"
   ]
  },
  {
   "cell_type": "code",
   "execution_count": 9,
   "id": "86cc9dee-532b-47e1-a07b-8b9712ca343f",
   "metadata": {},
   "outputs": [
    {
     "name": "stdout",
     "output_type": "stream",
     "text": [
      "+---+---+----------+---------+------------+----------------+-------------------+----------------+-------------------+-----------+--------------+---------+---+------------+----------------+-------------------+----------------+-------------------+-----------+--------------+----------------+------------------+--------------+-----------------------+-----------------------+---------------+-----------------+----------------------+----------------------+----------------------+----------+----------------------+------------------+\n",
      "| ID|age|has_spouse|spouse_ID|gross_salary|has_student_loan|student_loan_amount|has_general_loan|general_loan_amount|has_alimony|alimony_amount|spouse_ID|age|gross_salary|has_student_loan|student_loan_amount|has_general_loan|general_loan_amount|has_alimony|alimony_amount|ind.gross_salary|ind.alimony_amount|ind.has_spouse|ind.student_loan_amount|ind.general_loan_amount|sp.gross_salary|sp.alimony_amount|sp.student_loan_amount|sp.general_loan_amount|house_spendable_income|toetsrente|deduction_loan_payment|max_to_spend_month|\n",
      "+---+---+----------+---------+------------+----------------+-------------------+----------------+-------------------+-----------+--------------+---------+---+------------+----------------+-------------------+----------------+-------------------+-----------+--------------+----------------+------------------+--------------+-----------------------+-----------------------+---------------+-----------------+----------------------+----------------------+----------------------+----------+----------------------+------------------+\n",
      "|106| 18|      true|      106|       75526|           false|                  0|            true|               9288|      false|             0|      106| 19|       59122|            true|              58463|            true|               1144|      false|             0|           75526|                 0|         false|                      0|                   9288|          59122|                0|                 58463|                  1144|                 95233|      34.0|              647.1125|2051.1558333333332|\n",
      "+---+---+----------+---------+------------+----------------+-------------------+----------------+-------------------+-----------+--------------+---------+---+------------+----------------+-------------------+----------------+-------------------+-----------+--------------+----------------+------------------+--------------+-----------------------+-----------------------+---------------+-----------------+----------------------+----------------------+----------------------+----------+----------------------+------------------+\n",
      "only showing top 1 row\n",
      "\n"
     ]
    }
   ],
   "source": [
    "df_monthly_spendable = df_deduction_loan.withColumn(\"max_to_spend_month\", (col(\"house_spendable_income\")*(1/100)*col(\"Toetsrente\"))/12 - col(\"deduction_loan_payment\"))\n",
    "df_monthly_spendable.show(1)"
   ]
  },
  {
   "cell_type": "code",
   "execution_count": 10,
   "id": "0c563271-473d-4c87-a494-91d38a3fa1a1",
   "metadata": {},
   "outputs": [
    {
     "name": "stdout",
     "output_type": "stream",
     "text": [
      "+---+---------+------------------+\n",
      "| ID|spouse_ID|max_to_spend_month|\n",
      "+---+---------+------------------+\n",
      "|106|      106|2051.1558333333332|\n",
      "|153|      153|         2831.5425|\n",
      "|211|      211| 5075.041249999999|\n",
      "|354|      354|2210.1666666666665|\n",
      "|363|      363|        4899.29375|\n",
      "|469|      469|1584.9675000000002|\n",
      "|520|      520| 5060.837500000001|\n",
      "|539|      539|          2561.855|\n",
      "|594|      594|        5474.52125|\n",
      "|  9|        9|         4394.8475|\n",
      "| 30|       30|3100.0699999999997|\n",
      "|267|      267|3007.5525000000002|\n",
      "|306|      306|2684.2683333333334|\n",
      "|374|      374|        3233.71875|\n",
      "|562|      562| 992.1966666666668|\n",
      "|638|      638|2569.7512499999993|\n",
      "|758|      758|          3388.005|\n",
      "|828|      828|          2741.295|\n",
      "|836|      836|495.33333333333337|\n",
      "|887|      887|2807.8550000000005|\n",
      "+---+---------+------------------+\n",
      "only showing top 20 rows\n",
      "\n"
     ]
    }
   ],
   "source": [
    "df_monthly_spendable.select(\"ind.ID\", \"sp.spouse_ID\", \"max_to_spend_month\").show()"
   ]
  },
  {
   "cell_type": "markdown",
   "id": "0529b112-813a-49cb-a53e-ed7c9e45a30f",
   "metadata": {},
   "source": [
    "# allowed mortgage\n"
   ]
  },
  {
   "cell_type": "code",
   "execution_count": 11,
   "id": "1e78cf35-f1a3-438f-9559-c3988087b14d",
   "metadata": {},
   "outputs": [
    {
     "name": "stdout",
     "output_type": "stream",
     "text": [
      "+---+---------+------------------+------------------------+\n",
      "| ID|spouse_ID|max_to_spend_month|possible_mortgage_amount|\n",
      "+---+---------+------------------+------------------------+\n",
      "|106|      106|              2051|                  407681|\n",
      "|153|      153|              2831|                  562789|\n",
      "|211|      211|              5075|                 1008700|\n",
      "|354|      354|              2210|                  439286|\n",
      "|363|      363|              4899|                  973769|\n",
      "|469|      469|              1584|                  315023|\n",
      "|520|      520|              5060|                 1005877|\n",
      "|539|      539|              2561|                  509187|\n",
      "|594|      594|              5474|                 1088100|\n",
      "|  9|        9|              4394|                  873507|\n",
      "| 30|       30|              3100|                  616161|\n",
      "|267|      267|              3007|                  597772|\n",
      "|306|      306|              2684|                  533517|\n",
      "|374|      374|              3233|                  642724|\n",
      "|562|      562|               992|                  197206|\n",
      "|638|      638|              2569|                  510756|\n",
      "|758|      758|              3388|                  673390|\n",
      "|828|      828|              2741|                  544852|\n",
      "|836|      836|               495|                   98451|\n",
      "|887|      887|              2807|                  558081|\n",
      "+---+---------+------------------+------------------------+\n",
      "only showing top 20 rows\n",
      "\n"
     ]
    }
   ],
   "source": [
    "from pyspark.sql.functions import col, udf\n",
    "from pyspark.sql.types import StringType\n",
    "\n",
    "\n",
    "def mor_calc(interest, payment, months):\n",
    "    return int(payment * (1-((1+interest)**-months))/interest)\n",
    "\n",
    "\n",
    "interest = 0.0037\n",
    "months = 12 * 30\n",
    "\n",
    "\n",
    "morCalcUDF = udf(lambda x:mor_calc(interest, x, months),StringType())\n",
    "\n",
    "\n",
    "df2 = df_monthly_spendable.withColumn(\"possible_mortgage_amount\", morCalcUDF(col(\"max_to_spend_month\")))\n",
    "df_mortage_to_write = df2.select(\"ID\", \"sp.spouse_ID\", \"max_to_spend_month\", \"possible_mortgage_amount\")\n",
    "df_mortage_to_write = df_mortage_to_write.withColumn(\"max_to_spend_month\", col(\"max_to_spend_month\").cast(\"int\")) \n",
    "df_mortage_to_write.show()"
   ]
  },
  {
   "cell_type": "markdown",
   "id": "361a0818-4344-4ee9-ada2-6b71b6cc9fdd",
   "metadata": {},
   "source": [
    "# send the ID, spouse_ID, possible_mortage_amount"
   ]
  },
  {
   "cell_type": "code",
   "execution_count": 12,
   "id": "39611f81-9fa8-4570-9272-ea7561f78122",
   "metadata": {},
   "outputs": [
    {
     "data": {
      "text/plain": [
       "Table(TableReference(DatasetReference('degroup11', 'group11dataset'), 'mortage_amount_batch'))"
      ]
     },
     "execution_count": 12,
     "metadata": {},
     "output_type": "execute_result"
    }
   ],
   "source": [
    "from google.cloud import bigquery\n",
    "\n",
    "# Initialize the BigQuery client\n",
    "client = bigquery.Client(project=\"degroup11\")  \n",
    "\n",
    "# Define the table schema\n",
    "schema = [\n",
    "    bigquery.SchemaField(\"ID\", \"INTEGER\"),\n",
    "    bigquery.SchemaField(\"spouse_ID\", \"INTEGER\"),\n",
    "    bigquery.SchemaField(\"max_to_spend_month\", \"INTEGER\"),\n",
    "    bigquery.SchemaField(\"possible_mortgage_amount\", \"INTEGER\"),\n",
    "\n",
    "]\n",
    "\n",
    "# Specify the BigQuery dataset and table\n",
    "dataset_id = \"group11dataset\"  \n",
    "table_id = \"mortage_amount_batch\"   \n",
    "\n",
    "# Create the BigQuery table\n",
    "table_ref = client.dataset(dataset_id).table(table_id)\n",
    "table = bigquery.Table(table_ref, schema=schema)\n",
    "\n",
    "# Create the table if it doesn't exist\n",
    "client.create_table(table, exists_ok=True)"
   ]
  },
  {
   "cell_type": "code",
   "execution_count": null,
   "id": "521279fa-e497-4c91-bf95-87ebfadfe22c",
   "metadata": {},
   "outputs": [],
   "source": [
    "df_mortage_to_write.write.format(\"bigquery\").\\\n",
    "option('table', \"degroup11.group11dataset.mortage_amount_batch\").\\\n",
    "option(\"temporaryGcsBucket\", \"temp_degroup11\"). \\\n",
    "mode(\"overwrite\").save()"
   ]
  },
  {
   "cell_type": "code",
   "execution_count": null,
   "id": "83dfc9ee-2bbc-44d8-8881-8be00cd7ea0b",
   "metadata": {},
   "outputs": [],
   "source": [
    "spark.stop()"
   ]
  },
  {
   "cell_type": "code",
   "execution_count": null,
   "id": "33b416fa-52d2-4d68-bd79-a122a483ceab",
   "metadata": {},
   "outputs": [],
   "source": []
  }
 ],
 "metadata": {
  "kernelspec": {
   "display_name": "Python 3 (ipykernel)",
   "language": "python",
   "name": "python3"
  },
  "language_info": {
   "codemirror_mode": {
    "name": "ipython",
    "version": 3
   },
   "file_extension": ".py",
   "mimetype": "text/x-python",
   "name": "python",
   "nbconvert_exporter": "python",
   "pygments_lexer": "ipython3",
   "version": "3.11.6"
  }
 },
 "nbformat": 4,
 "nbformat_minor": 5
}
