{
 "cells": [
  {
   "cell_type": "code",
   "execution_count": 1,
   "id": "initial_id",
   "metadata": {
    "collapsed": true,
    "ExecuteTime": {
     "end_time": "2023-11-24T14:55:08.810164400Z",
     "start_time": "2023-11-24T14:55:06.240058700Z"
    }
   },
   "outputs": [],
   "source": [
    "import pandas as pd\n",
    "\n",
    "# Assuming your CSV files are named 'individuals.csv' and 'spouse.csv'\n",
    "file_path_individuals = '../spark/data/individuals.csv'\n",
    "file_path_spouse = '../spark/data/spouse.csv'"
   ]
  },
  {
   "cell_type": "code",
   "execution_count": 2,
   "outputs": [],
   "source": [
    "# Read the CSV files into pandas DataFrames\n",
    "df_ind = pd.read_csv(file_path_individuals)\n",
    "df_spouse = pd.read_csv(file_path_spouse)"
   ],
   "metadata": {
    "collapsed": false,
    "ExecuteTime": {
     "end_time": "2023-11-24T14:55:08.884158800Z",
     "start_time": "2023-11-24T14:55:08.818036100Z"
    }
   },
   "id": "ae4a069b8ed03685"
  },
  {
   "cell_type": "code",
   "execution_count": 3,
   "outputs": [],
   "source": [
    "# Fill empty values in the 'has_alimony' column with FALSE\n",
    "df_ind['has_alimony'].fillna(False, inplace=True)\n",
    "df_spouse['has_alimony'].fillna(False, inplace=True)\n",
    "\n",
    "# Create an empty 'spouse_id' column in the 'individuals' DataFrame\n",
    "df_ind['spouse_id'] = ''"
   ],
   "metadata": {
    "collapsed": false,
    "ExecuteTime": {
     "end_time": "2023-11-24T14:55:08.957870700Z",
     "start_time": "2023-11-24T14:55:08.871976100Z"
    }
   },
   "id": "17651ff22aa23af5"
  },
  {
   "cell_type": "code",
   "execution_count": 6,
   "outputs": [],
   "source": [
    "df_spouse.rename(columns={'ID': 'SID'}, inplace=True)\n",
    "\n",
    "\n",
    "#pd.merge(df_ind[df_ind['has_spouse'] == 'TRUE'],df_spouse['ID'],left_on=['spouse_id'],right_on='ID')\n",
    "# Convert 'ID' column in 'spouse' DataFrame to object type\n",
    "df_spouse['SID'] = df_spouse['SID'].astype(str)\n",
    "\n",
    "# Merge DataFrames based on the condition has_spouse=True\n",
    "merged_df = pd.merge(df_ind[df_ind['has_spouse'] == 'TRUE'], df_spouse[['SID']], left_on='spouse_id', right_on='SID', how='left')\n",
    "\n",
    "# Merge the new 'spouse_id' column back into the 'individuals' DataFrame\n",
    "df_ind = pd.merge(df_ind, merged_df[['ID']], left_index=True, right_index=True, how='left')\n",
    "\n",
    "# Fill -1 values in the 'spouse_id' column with empty strings\n",
    "df_ind['spouse_id'].fillna('-1', inplace=True)"
   ],
   "metadata": {
    "collapsed": false,
    "ExecuteTime": {
     "end_time": "2023-11-24T14:56:52.982427400Z",
     "start_time": "2023-11-24T14:56:52.972021700Z"
    }
   },
   "id": "f3b8f141169eb68d"
  },
  {
   "cell_type": "code",
   "execution_count": 9,
   "outputs": [
    {
     "data": {
      "text/plain": "     ID_x  age  has_spouse  gross_salary  has_student_loan  \\\n0       1   37        True        191453             False   \n1       2   56        True         82586             False   \n2       3   66       False        151688              True   \n3       4   56        True        107499             False   \n4       5   82        True         31355              True   \n..    ...  ...         ...           ...               ...   \n995   996   76        True         30722             False   \n996   997   43       False         87603             False   \n997   998   61        True         25123              True   \n998   999   75        True        101123              True   \n999  1000   34       False        182128              True   \n\n     student_loan_amount  has_general_loan  general_loan_amount  has_alimony  \\\n0                      0             False                    0        False   \n1                      0             False                    0        False   \n2                  55815              True                 8901        False   \n3                      0              True                 9727        False   \n4                  30629             False                    0        False   \n..                   ...               ...                  ...          ...   \n995                    0             False                    0        False   \n996                    0              True                 4087        False   \n997                44020             False                    0        False   \n998                65327              True                 1484        False   \n999                10831              True                  315        False   \n\n     alimony_amount spouse_id  SID  ID_y  \n0               0.0            NaN   NaN  \n1               0.0            NaN   NaN  \n2               0.0            NaN   NaN  \n3               0.0            NaN   NaN  \n4               0.0            NaN   NaN  \n..              ...       ...  ...   ...  \n995             0.0            NaN   NaN  \n996             0.0            NaN   NaN  \n997             0.0            NaN   NaN  \n998             0.0            NaN   NaN  \n999             0.0            NaN   NaN  \n\n[1000 rows x 13 columns]",
      "text/html": "<div>\n<style scoped>\n    .dataframe tbody tr th:only-of-type {\n        vertical-align: middle;\n    }\n\n    .dataframe tbody tr th {\n        vertical-align: top;\n    }\n\n    .dataframe thead th {\n        text-align: right;\n    }\n</style>\n<table border=\"1\" class=\"dataframe\">\n  <thead>\n    <tr style=\"text-align: right;\">\n      <th></th>\n      <th>ID_x</th>\n      <th>age</th>\n      <th>has_spouse</th>\n      <th>gross_salary</th>\n      <th>has_student_loan</th>\n      <th>student_loan_amount</th>\n      <th>has_general_loan</th>\n      <th>general_loan_amount</th>\n      <th>has_alimony</th>\n      <th>alimony_amount</th>\n      <th>spouse_id</th>\n      <th>SID</th>\n      <th>ID_y</th>\n    </tr>\n  </thead>\n  <tbody>\n    <tr>\n      <th>0</th>\n      <td>1</td>\n      <td>37</td>\n      <td>True</td>\n      <td>191453</td>\n      <td>False</td>\n      <td>0</td>\n      <td>False</td>\n      <td>0</td>\n      <td>False</td>\n      <td>0.0</td>\n      <td></td>\n      <td>NaN</td>\n      <td>NaN</td>\n    </tr>\n    <tr>\n      <th>1</th>\n      <td>2</td>\n      <td>56</td>\n      <td>True</td>\n      <td>82586</td>\n      <td>False</td>\n      <td>0</td>\n      <td>False</td>\n      <td>0</td>\n      <td>False</td>\n      <td>0.0</td>\n      <td></td>\n      <td>NaN</td>\n      <td>NaN</td>\n    </tr>\n    <tr>\n      <th>2</th>\n      <td>3</td>\n      <td>66</td>\n      <td>False</td>\n      <td>151688</td>\n      <td>True</td>\n      <td>55815</td>\n      <td>True</td>\n      <td>8901</td>\n      <td>False</td>\n      <td>0.0</td>\n      <td></td>\n      <td>NaN</td>\n      <td>NaN</td>\n    </tr>\n    <tr>\n      <th>3</th>\n      <td>4</td>\n      <td>56</td>\n      <td>True</td>\n      <td>107499</td>\n      <td>False</td>\n      <td>0</td>\n      <td>True</td>\n      <td>9727</td>\n      <td>False</td>\n      <td>0.0</td>\n      <td></td>\n      <td>NaN</td>\n      <td>NaN</td>\n    </tr>\n    <tr>\n      <th>4</th>\n      <td>5</td>\n      <td>82</td>\n      <td>True</td>\n      <td>31355</td>\n      <td>True</td>\n      <td>30629</td>\n      <td>False</td>\n      <td>0</td>\n      <td>False</td>\n      <td>0.0</td>\n      <td></td>\n      <td>NaN</td>\n      <td>NaN</td>\n    </tr>\n    <tr>\n      <th>...</th>\n      <td>...</td>\n      <td>...</td>\n      <td>...</td>\n      <td>...</td>\n      <td>...</td>\n      <td>...</td>\n      <td>...</td>\n      <td>...</td>\n      <td>...</td>\n      <td>...</td>\n      <td>...</td>\n      <td>...</td>\n      <td>...</td>\n    </tr>\n    <tr>\n      <th>995</th>\n      <td>996</td>\n      <td>76</td>\n      <td>True</td>\n      <td>30722</td>\n      <td>False</td>\n      <td>0</td>\n      <td>False</td>\n      <td>0</td>\n      <td>False</td>\n      <td>0.0</td>\n      <td></td>\n      <td>NaN</td>\n      <td>NaN</td>\n    </tr>\n    <tr>\n      <th>996</th>\n      <td>997</td>\n      <td>43</td>\n      <td>False</td>\n      <td>87603</td>\n      <td>False</td>\n      <td>0</td>\n      <td>True</td>\n      <td>4087</td>\n      <td>False</td>\n      <td>0.0</td>\n      <td></td>\n      <td>NaN</td>\n      <td>NaN</td>\n    </tr>\n    <tr>\n      <th>997</th>\n      <td>998</td>\n      <td>61</td>\n      <td>True</td>\n      <td>25123</td>\n      <td>True</td>\n      <td>44020</td>\n      <td>False</td>\n      <td>0</td>\n      <td>False</td>\n      <td>0.0</td>\n      <td></td>\n      <td>NaN</td>\n      <td>NaN</td>\n    </tr>\n    <tr>\n      <th>998</th>\n      <td>999</td>\n      <td>75</td>\n      <td>True</td>\n      <td>101123</td>\n      <td>True</td>\n      <td>65327</td>\n      <td>True</td>\n      <td>1484</td>\n      <td>False</td>\n      <td>0.0</td>\n      <td></td>\n      <td>NaN</td>\n      <td>NaN</td>\n    </tr>\n    <tr>\n      <th>999</th>\n      <td>1000</td>\n      <td>34</td>\n      <td>False</td>\n      <td>182128</td>\n      <td>True</td>\n      <td>10831</td>\n      <td>True</td>\n      <td>315</td>\n      <td>False</td>\n      <td>0.0</td>\n      <td></td>\n      <td>NaN</td>\n      <td>NaN</td>\n    </tr>\n  </tbody>\n</table>\n<p>1000 rows × 13 columns</p>\n</div>"
     },
     "execution_count": 9,
     "metadata": {},
     "output_type": "execute_result"
    }
   ],
   "source": [
    "#"
   ],
   "metadata": {
    "collapsed": false,
    "ExecuteTime": {
     "end_time": "2023-11-24T14:57:51.469363Z",
     "start_time": "2023-11-24T14:57:51.453343600Z"
    }
   },
   "id": "e7e254565b7157fb"
  },
  {
   "cell_type": "code",
   "execution_count": null,
   "outputs": [],
   "source": [],
   "metadata": {
    "collapsed": false
   },
   "id": "a829e630e530d509"
  }
 ],
 "metadata": {
  "kernelspec": {
   "display_name": "Python 3",
   "language": "python",
   "name": "python3"
  },
  "language_info": {
   "codemirror_mode": {
    "name": "ipython",
    "version": 2
   },
   "file_extension": ".py",
   "mimetype": "text/x-python",
   "name": "python",
   "nbconvert_exporter": "python",
   "pygments_lexer": "ipython2",
   "version": "2.7.6"
  }
 },
 "nbformat": 4,
 "nbformat_minor": 5
}
