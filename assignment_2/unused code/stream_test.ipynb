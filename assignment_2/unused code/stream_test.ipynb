{
 "cells": [
  {
   "cell_type": "code",
   "execution_count": null,
   "id": "initial_id",
   "metadata": {
    "collapsed": true
   },
   "outputs": [],
   "source": [
    "from pyspark import SparkConf\n",
    "from pyspark.sql import SparkSession\n",
    "from pyspark.sql.functions import window, col, avg, concat, lit\n",
    "from pyspark.sql.types import StructType, StructField, StringType, IntegerType, DoubleType, FloatType, BooleanType\n",
    "from time import sleep\n",
    "\n",
    "sparkConf = SparkConf()\n",
    "sparkConf.setMaster(\"spark://spark-master:7077\")\n",
    "sparkConf.setAppName(\"Stream_test2_Ex1_group11\")\n",
    "sparkConf.set(\"spark.driver.memory\", \"2g\")\n",
    "sparkConf.set(\"spark.executor.cores\", \"1\")\n",
    "sparkConf.set(\"spark.driver.cores\", \"1\")\n",
    "\n",
    "# create the spark session, which is the entry point to Spark SQL engine.\n",
    "spark = SparkSession.builder.config(conf=sparkConf).getOrCreate()\n",
    "dataSchema = StructType([\n",
    "    StructField(\"Address\", StringType(), True),\n",
    "    StructField(\"City\", StringType(), True),\n",
    "    StructField(\"Price\", IntegerType(), True),\n",
    "    StructField(\"Lot_size\", StringType(), True),\n",
    "    StructField(\"Living_space_size\", StringType(), True),\n",
    "    StructField(\"Build_year\", StringType(), True),\n",
    "    StructField(\"Build_type\", StringType(), True),\n",
    "    StructField(\"House_type\", StringType(), True),\n",
    "    StructField(\"Roof\", StringType(), True),\n",
    "    StructField(\"Rooms\", StringType(), True),\n",
    "    StructField(\"Toilet\", StringType(), True),\n",
    "    StructField(\"Floors\", StringType(), True),\n",
    "    StructField(\"Energy_label\", StringType(), True),\n",
    "    StructField(\"Position\", StringType(), True),\n",
    "    StructField(\"Garden\", StringType(), True),\n",
    "    StructField(\"Estimated_neighbourhood_price_per\", StringType(), True),\n",
    "    StructField(\"Availability\", BooleanType(), True),\n",
    "])\n",
    "\n",
    "# Read from a source \n",
    "sdf = spark.readStream.schema(dataSchema).option(\"maxFilesPerTrigger\", 1) \\\n",
    "    .json(\"/home/jovyan/data/mock_data\")\n",
    "\n",
    "avgpricedf = sdf.groupBy( \"Address\", \"City\") \\\n",
    "    .agg(avg(\"Price\").alias(\"value\"))\n",
    "\n",
    "resultdf = avgpricedf.select(concat(col(\"Address\"), lit(\" \"), col(\"City\")).alias(\"key\"), col(\"value\"))\n",
    "\n",
    "query = resultdf \\\n",
    "    .writeStream \\\n",
    "    .queryName(\"avg_price\") \\\n",
    "    .format(\"memory\") \\\n",
    "    .outputMode(\"complete\") \\\n",
    "    .start()\n",
    "\n",
    "try:\n",
    "    for x in range(100):\n",
    "        spark.sql(\"SELECT * FROM avg_price\").show()\n",
    "        sleep(10)\n",
    "except KeyboardInterrupt:\n",
    "    query.stop()\n",
    "    # Stop the spark context\n",
    "    spark.stop()\n",
    "    print(\"Stopped the streaming query and the spark context\")\n",
    "    \n",
    "# Do a calculation\n",
    "#priceCounts = sdf.groupBy(\"price\").count()\n",
    "\n",
    "# Write to a sink - here, the output is the console. \n",
    "#priceQuery = priceCounts.writeStream.queryName(\"price_counts\") \\\n",
    "                    #.format(\"memory\").outputMode(\"complete\") \\\n",
    "                    #.start()\n",
    "# Testing \n",
    "#for x in range(10):\n",
    "    #spark.sql(\"SELECT * FROM price_counts\").show()\n",
    "    #sleep(5)"
   ]
  },
  {
   "cell_type": "code",
   "execution_count": null,
   "outputs": [],
   "source": [
    "spark.stop()"
   ],
   "metadata": {
    "collapsed": false
   },
   "id": "24172bf32884f077"
  }
 ],
 "metadata": {
  "kernelspec": {
   "display_name": "Python 3",
   "language": "python",
   "name": "python3"
  },
  "language_info": {
   "codemirror_mode": {
    "name": "ipython",
    "version": 2
   },
   "file_extension": ".py",
   "mimetype": "text/x-python",
   "name": "python",
   "nbconvert_exporter": "python",
   "pygments_lexer": "ipython2",
   "version": "2.7.6"
  }
 },
 "nbformat": 4,
 "nbformat_minor": 5
}
