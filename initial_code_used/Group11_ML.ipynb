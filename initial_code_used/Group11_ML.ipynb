{
 "cells": [
  {
   "cell_type": "markdown",
   "id": "5c7d66fd",
   "metadata": {},
   "source": [
    "0) Libraries"
   ]
  },
  {
   "cell_type": "code",
   "execution_count": 59,
   "id": "3dda4cee",
   "metadata": {
    "ExecuteTime": {
     "end_time": "2023-10-18T15:25:14.713626700Z",
     "start_time": "2023-10-18T15:25:14.713626700Z"
    }
   },
   "outputs": [],
   "source": [
    "import pandas as pd\n",
    "import numpy as np\n",
    "#import tensorflow as tf\n",
    "#import keras\n",
    "\n",
    "from sklearn import preprocessing\n",
    "from sklearn.preprocessing import StandardScaler\n",
    "from sklearn.model_selection import train_test_split\n",
    "from sklearn.model_selection import GridSearchCV\n",
    "\n",
    "from sklearn.ensemble import RandomForestClassifier\n",
    "from sklearn.svm import SVC\n",
    "\n",
    "from sklearn.metrics import confusion_matrix\n",
    "from sklearn.metrics import accuracy_score\n",
    "from sklearn.metrics import balanced_accuracy_score"
   ]
  },
  {
   "cell_type": "markdown",
   "id": "885c6142",
   "metadata": {},
   "source": [
    "1) Download and read the data from this link:  \n",
    "https://www.kaggle.com/datasets/mathchi/churn-for-bank-customers\n",
    "\n",
    "*Main function: pd.read_csv*\n"
   ]
  },
  {
   "cell_type": "code",
   "execution_count": 29,
   "id": "206d06ce",
   "metadata": {
    "ExecuteTime": {
     "end_time": "2023-10-18T15:18:53.311936800Z",
     "start_time": "2023-10-18T15:18:52.996462100Z"
    }
   },
   "outputs": [
    {
     "data": {
      "text/plain": "   RowNumber  CustomerId   Surname  CreditScore Geography  Gender  Age  \\\n0          1    15634602  Hargrave          619    France  Female   42   \n1          2    15647311      Hill          608     Spain  Female   41   \n2          3    15619304      Onio          502    France  Female   42   \n3          4    15701354      Boni          699    France  Female   39   \n4          5    15737888  Mitchell          850     Spain  Female   43   \n5          6    15574012       Chu          645     Spain    Male   44   \n6          7    15592531  Bartlett          822    France    Male   50   \n7          8    15656148    Obinna          376   Germany  Female   29   \n8          9    15792365        He          501    France    Male   44   \n9         10    15592389        H?          684    France    Male   27   \n\n   Tenure    Balance  NumOfProducts  HasCrCard  IsActiveMember  \\\n0       2       0.00              1          1               1   \n1       1   83807.86              1          0               1   \n2       8  159660.80              3          1               0   \n3       1       0.00              2          0               0   \n4       2  125510.82              1          1               1   \n5       8  113755.78              2          1               0   \n6       7       0.00              2          1               1   \n7       4  115046.74              4          1               0   \n8       4  142051.07              2          0               1   \n9       2  134603.88              1          1               1   \n\n   EstimatedSalary  Exited  \n0        101348.88       1  \n1        112542.58       0  \n2        113931.57       1  \n3         93826.63       0  \n4         79084.10       0  \n5        149756.71       1  \n6         10062.80       0  \n7        119346.88       1  \n8         74940.50       0  \n9         71725.73       0  ",
      "text/html": "<div>\n<style scoped>\n    .dataframe tbody tr th:only-of-type {\n        vertical-align: middle;\n    }\n\n    .dataframe tbody tr th {\n        vertical-align: top;\n    }\n\n    .dataframe thead th {\n        text-align: right;\n    }\n</style>\n<table border=\"1\" class=\"dataframe\">\n  <thead>\n    <tr style=\"text-align: right;\">\n      <th></th>\n      <th>RowNumber</th>\n      <th>CustomerId</th>\n      <th>Surname</th>\n      <th>CreditScore</th>\n      <th>Geography</th>\n      <th>Gender</th>\n      <th>Age</th>\n      <th>Tenure</th>\n      <th>Balance</th>\n      <th>NumOfProducts</th>\n      <th>HasCrCard</th>\n      <th>IsActiveMember</th>\n      <th>EstimatedSalary</th>\n      <th>Exited</th>\n    </tr>\n  </thead>\n  <tbody>\n    <tr>\n      <th>0</th>\n      <td>1</td>\n      <td>15634602</td>\n      <td>Hargrave</td>\n      <td>619</td>\n      <td>France</td>\n      <td>Female</td>\n      <td>42</td>\n      <td>2</td>\n      <td>0.00</td>\n      <td>1</td>\n      <td>1</td>\n      <td>1</td>\n      <td>101348.88</td>\n      <td>1</td>\n    </tr>\n    <tr>\n      <th>1</th>\n      <td>2</td>\n      <td>15647311</td>\n      <td>Hill</td>\n      <td>608</td>\n      <td>Spain</td>\n      <td>Female</td>\n      <td>41</td>\n      <td>1</td>\n      <td>83807.86</td>\n      <td>1</td>\n      <td>0</td>\n      <td>1</td>\n      <td>112542.58</td>\n      <td>0</td>\n    </tr>\n    <tr>\n      <th>2</th>\n      <td>3</td>\n      <td>15619304</td>\n      <td>Onio</td>\n      <td>502</td>\n      <td>France</td>\n      <td>Female</td>\n      <td>42</td>\n      <td>8</td>\n      <td>159660.80</td>\n      <td>3</td>\n      <td>1</td>\n      <td>0</td>\n      <td>113931.57</td>\n      <td>1</td>\n    </tr>\n    <tr>\n      <th>3</th>\n      <td>4</td>\n      <td>15701354</td>\n      <td>Boni</td>\n      <td>699</td>\n      <td>France</td>\n      <td>Female</td>\n      <td>39</td>\n      <td>1</td>\n      <td>0.00</td>\n      <td>2</td>\n      <td>0</td>\n      <td>0</td>\n      <td>93826.63</td>\n      <td>0</td>\n    </tr>\n    <tr>\n      <th>4</th>\n      <td>5</td>\n      <td>15737888</td>\n      <td>Mitchell</td>\n      <td>850</td>\n      <td>Spain</td>\n      <td>Female</td>\n      <td>43</td>\n      <td>2</td>\n      <td>125510.82</td>\n      <td>1</td>\n      <td>1</td>\n      <td>1</td>\n      <td>79084.10</td>\n      <td>0</td>\n    </tr>\n    <tr>\n      <th>5</th>\n      <td>6</td>\n      <td>15574012</td>\n      <td>Chu</td>\n      <td>645</td>\n      <td>Spain</td>\n      <td>Male</td>\n      <td>44</td>\n      <td>8</td>\n      <td>113755.78</td>\n      <td>2</td>\n      <td>1</td>\n      <td>0</td>\n      <td>149756.71</td>\n      <td>1</td>\n    </tr>\n    <tr>\n      <th>6</th>\n      <td>7</td>\n      <td>15592531</td>\n      <td>Bartlett</td>\n      <td>822</td>\n      <td>France</td>\n      <td>Male</td>\n      <td>50</td>\n      <td>7</td>\n      <td>0.00</td>\n      <td>2</td>\n      <td>1</td>\n      <td>1</td>\n      <td>10062.80</td>\n      <td>0</td>\n    </tr>\n    <tr>\n      <th>7</th>\n      <td>8</td>\n      <td>15656148</td>\n      <td>Obinna</td>\n      <td>376</td>\n      <td>Germany</td>\n      <td>Female</td>\n      <td>29</td>\n      <td>4</td>\n      <td>115046.74</td>\n      <td>4</td>\n      <td>1</td>\n      <td>0</td>\n      <td>119346.88</td>\n      <td>1</td>\n    </tr>\n    <tr>\n      <th>8</th>\n      <td>9</td>\n      <td>15792365</td>\n      <td>He</td>\n      <td>501</td>\n      <td>France</td>\n      <td>Male</td>\n      <td>44</td>\n      <td>4</td>\n      <td>142051.07</td>\n      <td>2</td>\n      <td>0</td>\n      <td>1</td>\n      <td>74940.50</td>\n      <td>0</td>\n    </tr>\n    <tr>\n      <th>9</th>\n      <td>10</td>\n      <td>15592389</td>\n      <td>H?</td>\n      <td>684</td>\n      <td>France</td>\n      <td>Male</td>\n      <td>27</td>\n      <td>2</td>\n      <td>134603.88</td>\n      <td>1</td>\n      <td>1</td>\n      <td>1</td>\n      <td>71725.73</td>\n      <td>0</td>\n    </tr>\n  </tbody>\n</table>\n</div>"
     },
     "execution_count": 29,
     "metadata": {},
     "output_type": "execute_result"
    }
   ],
   "source": [
    "dataset = pd.read_csv('churn.csv')\n",
    "dataset.head(10)"
   ]
  },
  {
   "cell_type": "code",
   "execution_count": 30,
   "id": "da57c6ae",
   "metadata": {
    "ExecuteTime": {
     "end_time": "2023-10-18T15:18:53.343209Z",
     "start_time": "2023-10-18T15:18:53.036680700Z"
    }
   },
   "outputs": [
    {
     "data": {
      "text/plain": "RowNumber          0\nCustomerId         0\nSurname            0\nCreditScore        0\nGeography          0\nGender             0\nAge                0\nTenure             0\nBalance            0\nNumOfProducts      0\nHasCrCard          0\nIsActiveMember     0\nEstimatedSalary    0\nExited             0\ndtype: int64"
     },
     "execution_count": 30,
     "metadata": {},
     "output_type": "execute_result"
    }
   ],
   "source": [
    "dataset.isna().sum()"
   ]
  },
  {
   "cell_type": "markdown",
   "id": "2763f74e",
   "metadata": {},
   "source": [
    "2) Convert categorical variables (Geography,Gender) to Numerical \n",
    "\n",
    "*Main function: label encoding*"
   ]
  },
  {
   "cell_type": "code",
   "execution_count": 31,
   "id": "55c72228",
   "metadata": {
    "ExecuteTime": {
     "end_time": "2023-10-18T15:18:53.343209Z",
     "start_time": "2023-10-18T15:18:53.052770600Z"
    }
   },
   "outputs": [],
   "source": [
    "label_encoder = preprocessing.LabelEncoder()"
   ]
  },
  {
   "cell_type": "code",
   "execution_count": 32,
   "id": "077c6d71",
   "metadata": {
    "ExecuteTime": {
     "end_time": "2023-10-18T15:18:53.383464Z",
     "start_time": "2023-10-18T15:18:53.053300300Z"
    }
   },
   "outputs": [
    {
     "data": {
      "text/plain": "   Geography  Gender\n0          0       0\n1          2       0\n2          0       0\n3          0       0\n4          2       0\n5          2       1",
      "text/html": "<div>\n<style scoped>\n    .dataframe tbody tr th:only-of-type {\n        vertical-align: middle;\n    }\n\n    .dataframe tbody tr th {\n        vertical-align: top;\n    }\n\n    .dataframe thead th {\n        text-align: right;\n    }\n</style>\n<table border=\"1\" class=\"dataframe\">\n  <thead>\n    <tr style=\"text-align: right;\">\n      <th></th>\n      <th>Geography</th>\n      <th>Gender</th>\n    </tr>\n  </thead>\n  <tbody>\n    <tr>\n      <th>0</th>\n      <td>0</td>\n      <td>0</td>\n    </tr>\n    <tr>\n      <th>1</th>\n      <td>2</td>\n      <td>0</td>\n    </tr>\n    <tr>\n      <th>2</th>\n      <td>0</td>\n      <td>0</td>\n    </tr>\n    <tr>\n      <th>3</th>\n      <td>0</td>\n      <td>0</td>\n    </tr>\n    <tr>\n      <th>4</th>\n      <td>2</td>\n      <td>0</td>\n    </tr>\n    <tr>\n      <th>5</th>\n      <td>2</td>\n      <td>1</td>\n    </tr>\n  </tbody>\n</table>\n</div>"
     },
     "execution_count": 32,
     "metadata": {},
     "output_type": "execute_result"
    }
   ],
   "source": [
    "for i in ['Geography', 'Gender']:\n",
    "    dataset[i]= label_encoder.fit_transform(dataset[i])\n",
    "dataset.loc[:5 , ['Geography', 'Gender']]"
   ]
  },
  {
   "cell_type": "markdown",
   "id": "4788952d",
   "metadata": {},
   "source": [
    "3) Split X και y, train και test\n",
    "\n",
    "X_Columns: \n",
    "CreditScore, Geography, Gender, Tenure, Balance, NumOfProducts, HasCrCard, IsActiveMember, EstimatedSalary \n",
    "\n",
    "Y_columns: \n",
    "Exited\n",
    "\n",
    "and add stratify = y στα parameters από το train_test_split\n",
    "\n",
    "*Main function: (train_test_split)*"
   ]
  },
  {
   "cell_type": "code",
   "execution_count": 33,
   "id": "50d26fc6",
   "metadata": {
    "ExecuteTime": {
     "end_time": "2023-10-18T15:18:53.390921100Z",
     "start_time": "2023-10-18T15:18:53.075317400Z"
    }
   },
   "outputs": [],
   "source": [
    "X_Columns = ['CreditScore', 'Geography',\n",
    "       'Gender', 'Age', 'Tenure', 'Balance', 'NumOfProducts', 'HasCrCard',\n",
    "       'IsActiveMember', 'EstimatedSalary']"
   ]
  },
  {
   "cell_type": "code",
   "execution_count": 34,
   "id": "44021a42",
   "metadata": {
    "ExecuteTime": {
     "end_time": "2023-10-18T15:18:53.390921100Z",
     "start_time": "2023-10-18T15:18:53.075317400Z"
    }
   },
   "outputs": [],
   "source": [
    "Y_columns= ['Exited']"
   ]
  },
  {
   "cell_type": "code",
   "execution_count": 35,
   "id": "b13e54c0",
   "metadata": {
    "ExecuteTime": {
     "end_time": "2023-10-18T15:18:53.422179300Z",
     "start_time": "2023-10-18T15:18:53.089451900Z"
    }
   },
   "outputs": [
    {
     "name": "stdout",
     "output_type": "stream",
     "text": [
      "(10000, 10)\n",
      "(10000, 1)\n"
     ]
    }
   ],
   "source": [
    "X = dataset.copy()[X_Columns]\n",
    "y = dataset.copy()[Y_columns]\n",
    "print(X.shape)\n",
    "print(y.shape)"
   ]
  },
  {
   "cell_type": "code",
   "execution_count": 36,
   "id": "0170499c",
   "metadata": {
    "ExecuteTime": {
     "end_time": "2023-10-18T15:18:53.438638Z",
     "start_time": "2023-10-18T15:18:53.105095700Z"
    }
   },
   "outputs": [
    {
     "name": "stdout",
     "output_type": "stream",
     "text": [
      "(8000, 10)\n",
      "(2000, 10)\n",
      "(8000, 1)\n",
      "(2000, 1)\n"
     ]
    }
   ],
   "source": [
    "X_train, X_test, y_train, y_test = train_test_split(X, y, \n",
    "                                                    test_size=0.2,\n",
    "                                                    stratify=y)\n",
    "print(X_train.shape)\n",
    "print(X_test.shape)\n",
    "print(y_train.shape)\n",
    "print(y_test.shape)"
   ]
  },
  {
   "cell_type": "markdown",
   "id": "cc01c1d3",
   "metadata": {},
   "source": [
    "4) Train with these characteristics:\n",
    "\n",
    "* Random Forest \n",
    "* Without PCA\n",
    "* Without clusters\n",
    "* With Precision scoring, \n",
    "* Try with grid search 200, 300 και 500 tress, with max depth 3,5 and 10, as well as the two avaible criterion. \n",
    "\n",
    "*Main function: grid_search, RandomForestClassifier*"
   ]
  },
  {
   "cell_type": "code",
   "execution_count": 37,
   "id": "3dec52bb",
   "metadata": {
    "ExecuteTime": {
     "end_time": "2023-10-18T15:18:53.438638Z",
     "start_time": "2023-10-18T15:18:53.152958900Z"
    }
   },
   "outputs": [],
   "source": [
    "model_rf_class =RandomForestClassifier()"
   ]
  },
  {
   "cell_type": "code",
   "execution_count": 39,
   "outputs": [],
   "source": [
    "import pickle\n",
    "file_name = 'model.pkl'\n",
    "pickle.dump(model_rf_class, open(file_name, 'wb'))"
   ],
   "metadata": {
    "collapsed": false,
    "ExecuteTime": {
     "end_time": "2023-10-18T15:18:55.279791Z",
     "start_time": "2023-10-18T15:18:55.254185500Z"
    }
   },
   "id": "189a838e9beca47f"
  },
  {
   "cell_type": "code",
   "execution_count": 40,
   "id": "4685cbf0",
   "metadata": {
    "ExecuteTime": {
     "end_time": "2023-10-18T15:18:55.315921400Z",
     "start_time": "2023-10-18T15:18:55.279791Z"
    }
   },
   "outputs": [],
   "source": [
    "param_grid_class = {'n_estimators': [200,300,500],\n",
    "              'max_depth' : [3,5,10],\n",
    "              'criterion' :['gini', 'entropy']\n",
    "             }"
   ]
  },
  {
   "cell_type": "code",
   "execution_count": 41,
   "id": "bc65d081",
   "metadata": {
    "ExecuteTime": {
     "end_time": "2023-10-18T15:18:55.315921400Z",
     "start_time": "2023-10-18T15:18:55.293883800Z"
    }
   },
   "outputs": [],
   "source": [
    "grid_search_rf_class = GridSearchCV(estimator=model_rf_class, \n",
    "                              param_grid=param_grid_class, \n",
    "                              scoring= 'accuracy',\n",
    "                              cv=5,\n",
    "                             verbose=1)"
   ]
  },
  {
   "cell_type": "code",
   "execution_count": 42,
   "id": "e9c4d1c6",
   "metadata": {
    "scrolled": true,
    "ExecuteTime": {
     "end_time": "2023-10-18T15:22:51.606537100Z",
     "start_time": "2023-10-18T15:18:55.296301Z"
    }
   },
   "outputs": [
    {
     "name": "stdout",
     "output_type": "stream",
     "text": [
      "Fitting 5 folds for each of 18 candidates, totalling 90 fits\n"
     ]
    },
    {
     "data": {
      "text/plain": "GridSearchCV(cv=5, estimator=RandomForestClassifier(),\n             param_grid={'criterion': ['gini', 'entropy'],\n                         'max_depth': [3, 5, 10],\n                         'n_estimators': [200, 300, 500]},\n             scoring='accuracy', verbose=1)",
      "text/html": "<style>#sk-container-id-3 {color: black;}#sk-container-id-3 pre{padding: 0;}#sk-container-id-3 div.sk-toggleable {background-color: white;}#sk-container-id-3 label.sk-toggleable__label {cursor: pointer;display: block;width: 100%;margin-bottom: 0;padding: 0.3em;box-sizing: border-box;text-align: center;}#sk-container-id-3 label.sk-toggleable__label-arrow:before {content: \"▸\";float: left;margin-right: 0.25em;color: #696969;}#sk-container-id-3 label.sk-toggleable__label-arrow:hover:before {color: black;}#sk-container-id-3 div.sk-estimator:hover label.sk-toggleable__label-arrow:before {color: black;}#sk-container-id-3 div.sk-toggleable__content {max-height: 0;max-width: 0;overflow: hidden;text-align: left;background-color: #f0f8ff;}#sk-container-id-3 div.sk-toggleable__content pre {margin: 0.2em;color: black;border-radius: 0.25em;background-color: #f0f8ff;}#sk-container-id-3 input.sk-toggleable__control:checked~div.sk-toggleable__content {max-height: 200px;max-width: 100%;overflow: auto;}#sk-container-id-3 input.sk-toggleable__control:checked~label.sk-toggleable__label-arrow:before {content: \"▾\";}#sk-container-id-3 div.sk-estimator input.sk-toggleable__control:checked~label.sk-toggleable__label {background-color: #d4ebff;}#sk-container-id-3 div.sk-label input.sk-toggleable__control:checked~label.sk-toggleable__label {background-color: #d4ebff;}#sk-container-id-3 input.sk-hidden--visually {border: 0;clip: rect(1px 1px 1px 1px);clip: rect(1px, 1px, 1px, 1px);height: 1px;margin: -1px;overflow: hidden;padding: 0;position: absolute;width: 1px;}#sk-container-id-3 div.sk-estimator {font-family: monospace;background-color: #f0f8ff;border: 1px dotted black;border-radius: 0.25em;box-sizing: border-box;margin-bottom: 0.5em;}#sk-container-id-3 div.sk-estimator:hover {background-color: #d4ebff;}#sk-container-id-3 div.sk-parallel-item::after {content: \"\";width: 100%;border-bottom: 1px solid gray;flex-grow: 1;}#sk-container-id-3 div.sk-label:hover label.sk-toggleable__label {background-color: #d4ebff;}#sk-container-id-3 div.sk-serial::before {content: \"\";position: absolute;border-left: 1px solid gray;box-sizing: border-box;top: 0;bottom: 0;left: 50%;z-index: 0;}#sk-container-id-3 div.sk-serial {display: flex;flex-direction: column;align-items: center;background-color: white;padding-right: 0.2em;padding-left: 0.2em;position: relative;}#sk-container-id-3 div.sk-item {position: relative;z-index: 1;}#sk-container-id-3 div.sk-parallel {display: flex;align-items: stretch;justify-content: center;background-color: white;position: relative;}#sk-container-id-3 div.sk-item::before, #sk-container-id-3 div.sk-parallel-item::before {content: \"\";position: absolute;border-left: 1px solid gray;box-sizing: border-box;top: 0;bottom: 0;left: 50%;z-index: -1;}#sk-container-id-3 div.sk-parallel-item {display: flex;flex-direction: column;z-index: 1;position: relative;background-color: white;}#sk-container-id-3 div.sk-parallel-item:first-child::after {align-self: flex-end;width: 50%;}#sk-container-id-3 div.sk-parallel-item:last-child::after {align-self: flex-start;width: 50%;}#sk-container-id-3 div.sk-parallel-item:only-child::after {width: 0;}#sk-container-id-3 div.sk-dashed-wrapped {border: 1px dashed gray;margin: 0 0.4em 0.5em 0.4em;box-sizing: border-box;padding-bottom: 0.4em;background-color: white;}#sk-container-id-3 div.sk-label label {font-family: monospace;font-weight: bold;display: inline-block;line-height: 1.2em;}#sk-container-id-3 div.sk-label-container {text-align: center;}#sk-container-id-3 div.sk-container {/* jupyter's `normalize.less` sets `[hidden] { display: none; }` but bootstrap.min.css set `[hidden] { display: none !important; }` so we also need the `!important` here to be able to override the default hidden behavior on the sphinx rendered scikit-learn.org. See: https://github.com/scikit-learn/scikit-learn/issues/21755 */display: inline-block !important;position: relative;}#sk-container-id-3 div.sk-text-repr-fallback {display: none;}</style><div id=\"sk-container-id-3\" class=\"sk-top-container\"><div class=\"sk-text-repr-fallback\"><pre>GridSearchCV(cv=5, estimator=RandomForestClassifier(),\n             param_grid={&#x27;criterion&#x27;: [&#x27;gini&#x27;, &#x27;entropy&#x27;],\n                         &#x27;max_depth&#x27;: [3, 5, 10],\n                         &#x27;n_estimators&#x27;: [200, 300, 500]},\n             scoring=&#x27;accuracy&#x27;, verbose=1)</pre><b>In a Jupyter environment, please rerun this cell to show the HTML representation or trust the notebook. <br />On GitHub, the HTML representation is unable to render, please try loading this page with nbviewer.org.</b></div><div class=\"sk-container\" hidden><div class=\"sk-item sk-dashed-wrapped\"><div class=\"sk-label-container\"><div class=\"sk-label sk-toggleable\"><input class=\"sk-toggleable__control sk-hidden--visually\" id=\"sk-estimator-id-3\" type=\"checkbox\" ><label for=\"sk-estimator-id-3\" class=\"sk-toggleable__label sk-toggleable__label-arrow\">GridSearchCV</label><div class=\"sk-toggleable__content\"><pre>GridSearchCV(cv=5, estimator=RandomForestClassifier(),\n             param_grid={&#x27;criterion&#x27;: [&#x27;gini&#x27;, &#x27;entropy&#x27;],\n                         &#x27;max_depth&#x27;: [3, 5, 10],\n                         &#x27;n_estimators&#x27;: [200, 300, 500]},\n             scoring=&#x27;accuracy&#x27;, verbose=1)</pre></div></div></div><div class=\"sk-parallel\"><div class=\"sk-parallel-item\"><div class=\"sk-item\"><div class=\"sk-label-container\"><div class=\"sk-label sk-toggleable\"><input class=\"sk-toggleable__control sk-hidden--visually\" id=\"sk-estimator-id-4\" type=\"checkbox\" ><label for=\"sk-estimator-id-4\" class=\"sk-toggleable__label sk-toggleable__label-arrow\">estimator: RandomForestClassifier</label><div class=\"sk-toggleable__content\"><pre>RandomForestClassifier()</pre></div></div></div><div class=\"sk-serial\"><div class=\"sk-item\"><div class=\"sk-estimator sk-toggleable\"><input class=\"sk-toggleable__control sk-hidden--visually\" id=\"sk-estimator-id-5\" type=\"checkbox\" ><label for=\"sk-estimator-id-5\" class=\"sk-toggleable__label sk-toggleable__label-arrow\">RandomForestClassifier</label><div class=\"sk-toggleable__content\"><pre>RandomForestClassifier()</pre></div></div></div></div></div></div></div></div></div></div>"
     },
     "execution_count": 42,
     "metadata": {},
     "output_type": "execute_result"
    }
   ],
   "source": [
    "grid_search_rf_class.fit(X_train,y_train.values.ravel())"
   ]
  },
  {
   "cell_type": "code",
   "execution_count": 43,
   "id": "cfb1dec0",
   "metadata": {
    "ExecuteTime": {
     "end_time": "2023-10-18T15:22:51.622614600Z",
     "start_time": "2023-10-18T15:22:51.616382300Z"
    }
   },
   "outputs": [
    {
     "data": {
      "text/plain": "{'criterion': 'entropy', 'max_depth': 10, 'n_estimators': 300}"
     },
     "execution_count": 43,
     "metadata": {},
     "output_type": "execute_result"
    }
   ],
   "source": [
    "grid_search_rf_class.best_params_"
   ]
  },
  {
   "cell_type": "markdown",
   "id": "c141b6a2",
   "metadata": {},
   "source": [
    "5) Export from the model random forest a data frame with the feature importance with the best model on each cluster. \n",
    "\n",
    "*Main function: feature_importance_*"
   ]
  },
  {
   "cell_type": "code",
   "execution_count": null,
   "id": "2f151186",
   "metadata": {
    "ExecuteTime": {
     "start_time": "2023-10-18T15:24:28.732737900Z"
    }
   },
   "outputs": [],
   "source": [
    "pd.DataFrame(data = grid_search_rf_class.best_estimator_.feature_importances_,\n",
    "            index = X.columns,\n",
    "            columns=['feature_importance']).sort_values(by='feature_importance',\n",
    "                                                       ascending =False)\n",
    "import pickle\n",
    "file_name = 'model.pkl'\n",
    "pickle.dump(model_rf_class, open(file_name, 'wb'))"
   ]
  },
  {
   "cell_type": "markdown",
   "id": "baf404a0",
   "metadata": {},
   "source": [
    "6) Train with these characteristics:\n",
    "* Algorithm Support Vector Machine\n",
    "* With Standard Scaler\n",
    "* With scoring Balanced Accuracy\n",
    "* Try only with the kernel Radial basis function, to find gamma automatically,  while  the parameter C takes the values 0.001, 0.01, 1, 10 ,100 ,1000\n",
    "\n",
    "*Main function: grid_search, SVC(class_weight= 'balanced'), StandarScaler, balanced_accuracy*\n"
   ]
  },
  {
   "cell_type": "code",
   "execution_count": 45,
   "id": "d6ac35bc",
   "metadata": {
    "ExecuteTime": {
     "end_time": "2023-10-18T15:22:51.724696300Z",
     "start_time": "2023-10-18T15:22:51.645888800Z"
    }
   },
   "outputs": [],
   "source": [
    "scaler = StandardScaler()"
   ]
  },
  {
   "cell_type": "code",
   "execution_count": 46,
   "id": "d0517676",
   "metadata": {
    "ExecuteTime": {
     "end_time": "2023-10-18T15:22:51.724696300Z",
     "start_time": "2023-10-18T15:22:51.653427500Z"
    }
   },
   "outputs": [
    {
     "data": {
      "text/plain": "StandardScaler()",
      "text/html": "<style>#sk-container-id-4 {color: black;}#sk-container-id-4 pre{padding: 0;}#sk-container-id-4 div.sk-toggleable {background-color: white;}#sk-container-id-4 label.sk-toggleable__label {cursor: pointer;display: block;width: 100%;margin-bottom: 0;padding: 0.3em;box-sizing: border-box;text-align: center;}#sk-container-id-4 label.sk-toggleable__label-arrow:before {content: \"▸\";float: left;margin-right: 0.25em;color: #696969;}#sk-container-id-4 label.sk-toggleable__label-arrow:hover:before {color: black;}#sk-container-id-4 div.sk-estimator:hover label.sk-toggleable__label-arrow:before {color: black;}#sk-container-id-4 div.sk-toggleable__content {max-height: 0;max-width: 0;overflow: hidden;text-align: left;background-color: #f0f8ff;}#sk-container-id-4 div.sk-toggleable__content pre {margin: 0.2em;color: black;border-radius: 0.25em;background-color: #f0f8ff;}#sk-container-id-4 input.sk-toggleable__control:checked~div.sk-toggleable__content {max-height: 200px;max-width: 100%;overflow: auto;}#sk-container-id-4 input.sk-toggleable__control:checked~label.sk-toggleable__label-arrow:before {content: \"▾\";}#sk-container-id-4 div.sk-estimator input.sk-toggleable__control:checked~label.sk-toggleable__label {background-color: #d4ebff;}#sk-container-id-4 div.sk-label input.sk-toggleable__control:checked~label.sk-toggleable__label {background-color: #d4ebff;}#sk-container-id-4 input.sk-hidden--visually {border: 0;clip: rect(1px 1px 1px 1px);clip: rect(1px, 1px, 1px, 1px);height: 1px;margin: -1px;overflow: hidden;padding: 0;position: absolute;width: 1px;}#sk-container-id-4 div.sk-estimator {font-family: monospace;background-color: #f0f8ff;border: 1px dotted black;border-radius: 0.25em;box-sizing: border-box;margin-bottom: 0.5em;}#sk-container-id-4 div.sk-estimator:hover {background-color: #d4ebff;}#sk-container-id-4 div.sk-parallel-item::after {content: \"\";width: 100%;border-bottom: 1px solid gray;flex-grow: 1;}#sk-container-id-4 div.sk-label:hover label.sk-toggleable__label {background-color: #d4ebff;}#sk-container-id-4 div.sk-serial::before {content: \"\";position: absolute;border-left: 1px solid gray;box-sizing: border-box;top: 0;bottom: 0;left: 50%;z-index: 0;}#sk-container-id-4 div.sk-serial {display: flex;flex-direction: column;align-items: center;background-color: white;padding-right: 0.2em;padding-left: 0.2em;position: relative;}#sk-container-id-4 div.sk-item {position: relative;z-index: 1;}#sk-container-id-4 div.sk-parallel {display: flex;align-items: stretch;justify-content: center;background-color: white;position: relative;}#sk-container-id-4 div.sk-item::before, #sk-container-id-4 div.sk-parallel-item::before {content: \"\";position: absolute;border-left: 1px solid gray;box-sizing: border-box;top: 0;bottom: 0;left: 50%;z-index: -1;}#sk-container-id-4 div.sk-parallel-item {display: flex;flex-direction: column;z-index: 1;position: relative;background-color: white;}#sk-container-id-4 div.sk-parallel-item:first-child::after {align-self: flex-end;width: 50%;}#sk-container-id-4 div.sk-parallel-item:last-child::after {align-self: flex-start;width: 50%;}#sk-container-id-4 div.sk-parallel-item:only-child::after {width: 0;}#sk-container-id-4 div.sk-dashed-wrapped {border: 1px dashed gray;margin: 0 0.4em 0.5em 0.4em;box-sizing: border-box;padding-bottom: 0.4em;background-color: white;}#sk-container-id-4 div.sk-label label {font-family: monospace;font-weight: bold;display: inline-block;line-height: 1.2em;}#sk-container-id-4 div.sk-label-container {text-align: center;}#sk-container-id-4 div.sk-container {/* jupyter's `normalize.less` sets `[hidden] { display: none; }` but bootstrap.min.css set `[hidden] { display: none !important; }` so we also need the `!important` here to be able to override the default hidden behavior on the sphinx rendered scikit-learn.org. See: https://github.com/scikit-learn/scikit-learn/issues/21755 */display: inline-block !important;position: relative;}#sk-container-id-4 div.sk-text-repr-fallback {display: none;}</style><div id=\"sk-container-id-4\" class=\"sk-top-container\"><div class=\"sk-text-repr-fallback\"><pre>StandardScaler()</pre><b>In a Jupyter environment, please rerun this cell to show the HTML representation or trust the notebook. <br />On GitHub, the HTML representation is unable to render, please try loading this page with nbviewer.org.</b></div><div class=\"sk-container\" hidden><div class=\"sk-item\"><div class=\"sk-estimator sk-toggleable\"><input class=\"sk-toggleable__control sk-hidden--visually\" id=\"sk-estimator-id-6\" type=\"checkbox\" checked><label for=\"sk-estimator-id-6\" class=\"sk-toggleable__label sk-toggleable__label-arrow\">StandardScaler</label><div class=\"sk-toggleable__content\"><pre>StandardScaler()</pre></div></div></div></div></div>"
     },
     "execution_count": 46,
     "metadata": {},
     "output_type": "execute_result"
    }
   ],
   "source": [
    "scaler.fit(X_train)"
   ]
  },
  {
   "cell_type": "code",
   "execution_count": 47,
   "id": "980a564a",
   "metadata": {
    "ExecuteTime": {
     "end_time": "2023-10-18T15:22:51.724696300Z",
     "start_time": "2023-10-18T15:22:51.659787400Z"
    }
   },
   "outputs": [],
   "source": [
    "X_train_scaled = scaler.transform(X_train)\n",
    "X_test_scaled = scaler.transform(X_test)"
   ]
  },
  {
   "cell_type": "code",
   "execution_count": 48,
   "id": "10855c9c",
   "metadata": {
    "ExecuteTime": {
     "end_time": "2023-10-18T15:22:51.724696300Z",
     "start_time": "2023-10-18T15:22:51.674778300Z"
    }
   },
   "outputs": [],
   "source": [
    "X_train_scaled = pd.DataFrame(X_train_scaled,columns = X.columns)\n",
    "X_test_scaled = pd.DataFrame(X_test_scaled,columns = X.columns) "
   ]
  },
  {
   "cell_type": "code",
   "execution_count": 49,
   "id": "1a5d5ae5",
   "metadata": {
    "ExecuteTime": {
     "end_time": "2023-10-18T15:22:51.724696300Z",
     "start_time": "2023-10-18T15:22:51.680642900Z"
    }
   },
   "outputs": [],
   "source": [
    "model_SVC = SVC(class_weight='balanced')"
   ]
  },
  {
   "cell_type": "code",
   "execution_count": 50,
   "id": "2c1140d9",
   "metadata": {
    "ExecuteTime": {
     "end_time": "2023-10-18T15:22:51.724696300Z",
     "start_time": "2023-10-18T15:22:51.685296900Z"
    }
   },
   "outputs": [],
   "source": [
    "tuned_parameters = [{'kernel': ['rbf'], \n",
    "                     'gamma': [\"auto\"],\n",
    "                     'C': [0.001, 0.01, 1, 10, 100, 1000]}\n",
    "                   ]"
   ]
  },
  {
   "cell_type": "code",
   "execution_count": 51,
   "id": "80c91ff1",
   "metadata": {
    "ExecuteTime": {
     "end_time": "2023-10-18T15:22:51.724696300Z",
     "start_time": "2023-10-18T15:22:51.694172600Z"
    }
   },
   "outputs": [],
   "source": [
    "model_SVC_grid = GridSearchCV(estimator  =  model_SVC,\n",
    "                              param_grid = tuned_parameters,\n",
    "                              scoring=\"balanced_accuracy\",\n",
    "                              cv=5,\n",
    "                              verbose = True\n",
    "                             )"
   ]
  },
  {
   "cell_type": "code",
   "execution_count": 52,
   "id": "1bc5f50b",
   "metadata": {
    "ExecuteTime": {
     "end_time": "2023-10-18T15:24:28.580971900Z",
     "start_time": "2023-10-18T15:22:51.701810400Z"
    }
   },
   "outputs": [
    {
     "name": "stdout",
     "output_type": "stream",
     "text": [
      "Fitting 5 folds for each of 6 candidates, totalling 30 fits\n"
     ]
    }
   ],
   "source": [
    "model_SVC_grid = model_SVC_grid.fit(X_train_scaled, y_train.values.ravel())  #DataConversionWarning: A column-vector y was passed when a 1d array was expected. Please change the shape of y to (n_samples, ), for example using ravel(). y = column_or_1d(y, warn=True)"
   ]
  },
  {
   "cell_type": "code",
   "execution_count": 53,
   "id": "bd9e47d9",
   "metadata": {
    "ExecuteTime": {
     "end_time": "2023-10-18T15:24:28.590648600Z",
     "start_time": "2023-10-18T15:24:28.578335500Z"
    }
   },
   "outputs": [
    {
     "data": {
      "text/plain": "{'C': 1, 'gamma': 'auto', 'kernel': 'rbf'}"
     },
     "execution_count": 53,
     "metadata": {},
     "output_type": "execute_result"
    }
   ],
   "source": [
    "model_SVC_grid.best_params_"
   ]
  },
  {
   "cell_type": "code",
   "execution_count": 54,
   "id": "b176e2b4",
   "metadata": {
    "ExecuteTime": {
     "end_time": "2023-10-18T15:24:28.606106700Z",
     "start_time": "2023-10-18T15:24:28.590648600Z"
    }
   },
   "outputs": [
    {
     "data": {
      "text/plain": "   mean_fit_time  std_fit_time  mean_score_time  std_score_time param_C  \\\n2       0.898882      0.027216         0.435708        0.008124       1   \n3       1.090288      0.024508         0.428364        0.030137      10   \n1       1.342516      0.026165         0.769713        0.042458    0.01   \n4       2.408637      0.119305         0.428558        0.090812     100   \n5       8.335000      0.312324         0.318953        0.027611    1000   \n0       1.670536      0.242811         0.931932        0.029285   0.001   \n\n  param_gamma param_kernel                                          params  \\\n2        auto          rbf      {'C': 1, 'gamma': 'auto', 'kernel': 'rbf'}   \n3        auto          rbf     {'C': 10, 'gamma': 'auto', 'kernel': 'rbf'}   \n1        auto          rbf   {'C': 0.01, 'gamma': 'auto', 'kernel': 'rbf'}   \n4        auto          rbf    {'C': 100, 'gamma': 'auto', 'kernel': 'rbf'}   \n5        auto          rbf   {'C': 1000, 'gamma': 'auto', 'kernel': 'rbf'}   \n0        auto          rbf  {'C': 0.001, 'gamma': 'auto', 'kernel': 'rbf'}   \n\n   split0_test_score  split1_test_score  split2_test_score  split3_test_score  \\\n2           0.775332           0.746227           0.762918           0.779184   \n3           0.756787           0.734422           0.744229           0.761957   \n1           0.719395           0.715971           0.724172           0.738440   \n4           0.715056           0.702822           0.716518           0.714127   \n5           0.689876           0.693801           0.686344           0.685807   \n0           0.500000           0.500000           0.500000           0.500000   \n\n   split4_test_score  mean_test_score  std_test_score  rank_test_score  \n2           0.774046         0.767541        0.011952                1  \n3           0.763026         0.752084        0.011072                2  \n1           0.725670         0.724730        0.007673                3  \n4           0.726717         0.715048        0.007598                4  \n5           0.708281         0.692822        0.008244                5  \n0           0.500000         0.500000        0.000000                6  ",
      "text/html": "<div>\n<style scoped>\n    .dataframe tbody tr th:only-of-type {\n        vertical-align: middle;\n    }\n\n    .dataframe tbody tr th {\n        vertical-align: top;\n    }\n\n    .dataframe thead th {\n        text-align: right;\n    }\n</style>\n<table border=\"1\" class=\"dataframe\">\n  <thead>\n    <tr style=\"text-align: right;\">\n      <th></th>\n      <th>mean_fit_time</th>\n      <th>std_fit_time</th>\n      <th>mean_score_time</th>\n      <th>std_score_time</th>\n      <th>param_C</th>\n      <th>param_gamma</th>\n      <th>param_kernel</th>\n      <th>params</th>\n      <th>split0_test_score</th>\n      <th>split1_test_score</th>\n      <th>split2_test_score</th>\n      <th>split3_test_score</th>\n      <th>split4_test_score</th>\n      <th>mean_test_score</th>\n      <th>std_test_score</th>\n      <th>rank_test_score</th>\n    </tr>\n  </thead>\n  <tbody>\n    <tr>\n      <th>2</th>\n      <td>0.898882</td>\n      <td>0.027216</td>\n      <td>0.435708</td>\n      <td>0.008124</td>\n      <td>1</td>\n      <td>auto</td>\n      <td>rbf</td>\n      <td>{'C': 1, 'gamma': 'auto', 'kernel': 'rbf'}</td>\n      <td>0.775332</td>\n      <td>0.746227</td>\n      <td>0.762918</td>\n      <td>0.779184</td>\n      <td>0.774046</td>\n      <td>0.767541</td>\n      <td>0.011952</td>\n      <td>1</td>\n    </tr>\n    <tr>\n      <th>3</th>\n      <td>1.090288</td>\n      <td>0.024508</td>\n      <td>0.428364</td>\n      <td>0.030137</td>\n      <td>10</td>\n      <td>auto</td>\n      <td>rbf</td>\n      <td>{'C': 10, 'gamma': 'auto', 'kernel': 'rbf'}</td>\n      <td>0.756787</td>\n      <td>0.734422</td>\n      <td>0.744229</td>\n      <td>0.761957</td>\n      <td>0.763026</td>\n      <td>0.752084</td>\n      <td>0.011072</td>\n      <td>2</td>\n    </tr>\n    <tr>\n      <th>1</th>\n      <td>1.342516</td>\n      <td>0.026165</td>\n      <td>0.769713</td>\n      <td>0.042458</td>\n      <td>0.01</td>\n      <td>auto</td>\n      <td>rbf</td>\n      <td>{'C': 0.01, 'gamma': 'auto', 'kernel': 'rbf'}</td>\n      <td>0.719395</td>\n      <td>0.715971</td>\n      <td>0.724172</td>\n      <td>0.738440</td>\n      <td>0.725670</td>\n      <td>0.724730</td>\n      <td>0.007673</td>\n      <td>3</td>\n    </tr>\n    <tr>\n      <th>4</th>\n      <td>2.408637</td>\n      <td>0.119305</td>\n      <td>0.428558</td>\n      <td>0.090812</td>\n      <td>100</td>\n      <td>auto</td>\n      <td>rbf</td>\n      <td>{'C': 100, 'gamma': 'auto', 'kernel': 'rbf'}</td>\n      <td>0.715056</td>\n      <td>0.702822</td>\n      <td>0.716518</td>\n      <td>0.714127</td>\n      <td>0.726717</td>\n      <td>0.715048</td>\n      <td>0.007598</td>\n      <td>4</td>\n    </tr>\n    <tr>\n      <th>5</th>\n      <td>8.335000</td>\n      <td>0.312324</td>\n      <td>0.318953</td>\n      <td>0.027611</td>\n      <td>1000</td>\n      <td>auto</td>\n      <td>rbf</td>\n      <td>{'C': 1000, 'gamma': 'auto', 'kernel': 'rbf'}</td>\n      <td>0.689876</td>\n      <td>0.693801</td>\n      <td>0.686344</td>\n      <td>0.685807</td>\n      <td>0.708281</td>\n      <td>0.692822</td>\n      <td>0.008244</td>\n      <td>5</td>\n    </tr>\n    <tr>\n      <th>0</th>\n      <td>1.670536</td>\n      <td>0.242811</td>\n      <td>0.931932</td>\n      <td>0.029285</td>\n      <td>0.001</td>\n      <td>auto</td>\n      <td>rbf</td>\n      <td>{'C': 0.001, 'gamma': 'auto', 'kernel': 'rbf'}</td>\n      <td>0.500000</td>\n      <td>0.500000</td>\n      <td>0.500000</td>\n      <td>0.500000</td>\n      <td>0.500000</td>\n      <td>0.500000</td>\n      <td>0.000000</td>\n      <td>6</td>\n    </tr>\n  </tbody>\n</table>\n</div>"
     },
     "execution_count": 54,
     "metadata": {},
     "output_type": "execute_result"
    }
   ],
   "source": [
    "pd.DataFrame(model_SVC_grid.cv_results_).sort_values('rank_test_score')"
   ]
  },
  {
   "cell_type": "code",
   "execution_count": 68,
   "outputs": [],
   "source": [
    "import pickle\n",
    "file_name = 'modelSVC.pkl'\n",
    "pickle.dump(model_SVC_grid, open(file_name, 'wb'))"
   ],
   "metadata": {
    "collapsed": false,
    "ExecuteTime": {
     "end_time": "2023-10-18T15:31:57.576508700Z",
     "start_time": "2023-10-18T15:31:57.568378200Z"
    }
   },
   "id": "760127f58f80bcbb"
  },
  {
   "cell_type": "markdown",
   "id": "668a7c48",
   "metadata": {},
   "source": [
    "7) Predict the two models from the test sample, then export Confusion Matrix, Accuracy and Balanced_Accuracy.\n",
    "\n",
    "*Main function: predict, confusion_matrix, accuracy, balanced_accuracy*\n"
   ]
  },
  {
   "cell_type": "markdown",
   "id": "f10bb0d8",
   "metadata": {},
   "source": [
    "**Random Forest**"
   ]
  },
  {
   "cell_type": "code",
   "execution_count": 55,
   "id": "66b8ce9a",
   "metadata": {
    "ExecuteTime": {
     "end_time": "2023-10-18T15:24:28.748373800Z",
     "start_time": "2023-10-18T15:24:28.600598500Z"
    }
   },
   "outputs": [],
   "source": [
    "predictions_rf_class = grid_search_rf_class.predict(X_test)"
   ]
  },
  {
   "cell_type": "code",
   "execution_count": 56,
   "id": "98ac376b",
   "metadata": {
    "ExecuteTime": {
     "end_time": "2023-10-18T15:24:28.748373800Z",
     "start_time": "2023-10-18T15:24:28.684716400Z"
    }
   },
   "outputs": [
    {
     "data": {
      "text/plain": "array([[1560,   33],\n       [ 234,  173]], dtype=int64)"
     },
     "execution_count": 56,
     "metadata": {},
     "output_type": "execute_result"
    }
   ],
   "source": [
    "confusion_matrix(y_test,predictions_rf_class)"
   ]
  },
  {
   "cell_type": "code",
   "execution_count": 57,
   "id": "1bad1a72",
   "metadata": {
    "ExecuteTime": {
     "end_time": "2023-10-18T15:24:28.748373800Z",
     "start_time": "2023-10-18T15:24:28.691695900Z"
    }
   },
   "outputs": [
    {
     "data": {
      "text/plain": "0.8665"
     },
     "execution_count": 57,
     "metadata": {},
     "output_type": "execute_result"
    }
   ],
   "source": [
    "accuracy_score(y_test,predictions_rf_class)"
   ]
  },
  {
   "cell_type": "code",
   "execution_count": 60,
   "id": "8fbb67c2",
   "metadata": {
    "ExecuteTime": {
     "end_time": "2023-10-18T15:25:22.663645700Z",
     "start_time": "2023-10-18T15:25:22.631878100Z"
    }
   },
   "outputs": [
    {
     "data": {
      "text/plain": "0.7021728970881513"
     },
     "execution_count": 60,
     "metadata": {},
     "output_type": "execute_result"
    }
   ],
   "source": [
    "balanced_accuracy_score(y_test,predictions_rf_class)"
   ]
  },
  {
   "cell_type": "markdown",
   "id": "1bfd0bd6",
   "metadata": {},
   "source": [
    "**Support Vector Machine**"
   ]
  },
  {
   "cell_type": "code",
   "execution_count": 61,
   "id": "06b4e97b",
   "metadata": {
    "ExecuteTime": {
     "end_time": "2023-10-18T15:25:26.406883800Z",
     "start_time": "2023-10-18T15:25:25.552482200Z"
    }
   },
   "outputs": [],
   "source": [
    "y_predictions_SVC = model_SVC_grid.predict(X_test_scaled)"
   ]
  },
  {
   "cell_type": "code",
   "execution_count": 62,
   "id": "0d5fba0e",
   "metadata": {
    "ExecuteTime": {
     "end_time": "2023-10-18T15:25:26.420072100Z",
     "start_time": "2023-10-18T15:25:26.406883800Z"
    }
   },
   "outputs": [
    {
     "data": {
      "text/plain": "array([[1297,  296],\n       [ 105,  302]], dtype=int64)"
     },
     "execution_count": 62,
     "metadata": {},
     "output_type": "execute_result"
    }
   ],
   "source": [
    "confusion_matrix(y_test, y_predictions_SVC)"
   ]
  },
  {
   "cell_type": "code",
   "execution_count": 63,
   "id": "87271cb6",
   "metadata": {
    "ExecuteTime": {
     "end_time": "2023-10-18T15:25:26.665632Z",
     "start_time": "2023-10-18T15:25:26.652813300Z"
    }
   },
   "outputs": [
    {
     "data": {
      "text/plain": "0.7995"
     },
     "execution_count": 63,
     "metadata": {},
     "output_type": "execute_result"
    }
   ],
   "source": [
    "accuracy_score(y_test, y_predictions_SVC)"
   ]
  },
  {
   "cell_type": "code",
   "execution_count": 64,
   "id": "eee58a60",
   "metadata": {
    "ExecuteTime": {
     "end_time": "2023-10-18T15:25:27.473155900Z",
     "start_time": "2023-10-18T15:25:27.441238Z"
    }
   },
   "outputs": [
    {
     "data": {
      "text/plain": "0.7781009052195493"
     },
     "execution_count": 64,
     "metadata": {},
     "output_type": "execute_result"
    }
   ],
   "source": [
    "balanced_accuracy_score(y_test, y_predictions_SVC)"
   ]
  },
  {
   "cell_type": "code",
   "execution_count": null,
   "outputs": [],
   "source": [],
   "metadata": {
    "collapsed": false
   },
   "id": "8f44fbdde1a07a99"
  }
 ],
 "metadata": {
  "kernelspec": {
   "display_name": "Python 3 (ipykernel)",
   "language": "python",
   "name": "python3"
  },
  "language_info": {
   "codemirror_mode": {
    "name": "ipython",
    "version": 3
   },
   "file_extension": ".py",
   "mimetype": "text/x-python",
   "name": "python",
   "nbconvert_exporter": "python",
   "pygments_lexer": "ipython3",
   "version": "3.10.9"
  }
 },
 "nbformat": 4,
 "nbformat_minor": 5
}
